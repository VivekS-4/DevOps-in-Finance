{
 "cells": [
  {
   "cell_type": "code",
   "execution_count": 1,
   "id": "6bbb2a65",
   "metadata": {
    "execution": {
     "iopub.execute_input": "2023-06-01T15:26:58.823601Z",
     "iopub.status.busy": "2023-06-01T15:26:58.822234Z",
     "iopub.status.idle": "2023-06-01T15:27:02.749472Z",
     "shell.execute_reply": "2023-06-01T15:27:02.748083Z"
    },
    "id": "7NkQUU_4YWQe",
    "papermill": {
     "duration": 3.952446,
     "end_time": "2023-06-01T15:27:02.753255",
     "exception": false,
     "start_time": "2023-06-01T15:26:58.800809",
     "status": "completed"
    },
    "tags": []
   },
   "outputs": [],
   "source": [
    "# imports\n",
    "\n",
    "import numpy as np\n",
    "from numpy import mean\n",
    "from numpy import std\n",
    "from numpy import absolute\n",
    "import pandas as pd\n",
    "import scipy\n",
    "import matplotlib.pyplot as plt\n",
    "import seaborn as sns\n",
    "%matplotlib inline\n",
    "from scipy.stats.mstats import winsorize\n",
    "from sklearn.decomposition import PCA\n",
    "from sklearn.preprocessing import StandardScaler\n",
    "import math\n",
    "from sklearn import linear_model\n",
    "import statsmodels.api as sm\n",
    "from sklearn.model_selection import cross_val_score\n",
    "from sklearn.svm import SVR\n",
    "from sklearn.preprocessing import normalize\n",
    "from sklearn.preprocessing import scale\n",
    "import datetime\n",
    "\n"
   ]
  },
  {
   "cell_type": "code",
   "execution_count": 2,
   "id": "d06629af",
   "metadata": {
    "execution": {
     "iopub.execute_input": "2023-06-01T15:27:02.789369Z",
     "iopub.status.busy": "2023-06-01T15:27:02.788916Z",
     "iopub.status.idle": "2023-06-01T15:27:02.898678Z",
     "shell.execute_reply": "2023-06-01T15:27:02.897213Z"
    },
    "id": "rKwdOWqoYajb",
    "papermill": {
     "duration": 0.131266,
     "end_time": "2023-06-01T15:27:02.901989",
     "exception": false,
     "start_time": "2023-06-01T15:27:02.770723",
     "status": "completed"
    },
    "tags": []
   },
   "outputs": [],
   "source": [
    "df = pd.read_csv('Train.csv')\n",
    "\n",
    "# https://www.kaggle.com/datasets/abhishekgautam12/jpmc-quant?select=Train.csv"
   ]
  },
  {
   "cell_type": "code",
   "execution_count": 3,
   "id": "ca09c321",
   "metadata": {
    "execution": {
     "iopub.execute_input": "2023-06-01T15:27:02.940849Z",
     "iopub.status.busy": "2023-06-01T15:27:02.940066Z",
     "iopub.status.idle": "2023-06-01T15:27:02.946400Z",
     "shell.execute_reply": "2023-06-01T15:27:02.945175Z"
    },
    "id": "dZbSjJ_mJjMA",
    "papermill": {
     "duration": 0.029641,
     "end_time": "2023-06-01T15:27:02.949203",
     "exception": false,
     "start_time": "2023-06-01T15:27:02.919562",
     "status": "completed"
    },
    "tags": []
   },
   "outputs": [],
   "source": [
    "# The idea of this project is to use balance sheet data to predict a stock's price"
   ]
  },
  {
   "cell_type": "code",
   "execution_count": 4,
   "id": "14a8e846",
   "metadata": {
    "execution": {
     "iopub.execute_input": "2023-06-01T15:27:02.986017Z",
     "iopub.status.busy": "2023-06-01T15:27:02.985185Z",
     "iopub.status.idle": "2023-06-01T15:27:03.027168Z",
     "shell.execute_reply": "2023-06-01T15:27:03.025608Z"
    },
    "executionInfo": {
     "elapsed": 22,
     "status": "ok",
     "timestamp": 1683903231838,
     "user": {
      "displayName": "James Sawyer",
      "userId": "16205900586708287718"
     },
     "user_tz": 300
    },
    "id": "jYAzhMXnYcCz",
    "outputId": "201f2da9-0b48-41bb-d2ca-4463522951ca",
    "papermill": {
     "duration": 0.063856,
     "end_time": "2023-06-01T15:27:03.030102",
     "exception": false,
     "start_time": "2023-06-01T15:27:02.966246",
     "status": "completed"
    },
    "tags": []
   },
   "outputs": [
    {
     "data": {
      "text/html": [
       "<div>\n",
       "<style scoped>\n",
       "    .dataframe tbody tr th:only-of-type {\n",
       "        vertical-align: middle;\n",
       "    }\n",
       "\n",
       "    .dataframe tbody tr th {\n",
       "        vertical-align: top;\n",
       "    }\n",
       "\n",
       "    .dataframe thead th {\n",
       "        text-align: right;\n",
       "    }\n",
       "</style>\n",
       "<table border=\"1\" class=\"dataframe\">\n",
       "  <thead>\n",
       "    <tr style=\"text-align: right;\">\n",
       "      <th></th>\n",
       "      <th>Date</th>\n",
       "      <th>Stock</th>\n",
       "      <th>liabilities</th>\n",
       "      <th>equity</th>\n",
       "      <th>total_assets</th>\n",
       "      <th>current_assets</th>\n",
       "      <th>current_liabilities</th>\n",
       "      <th>total_revenue</th>\n",
       "      <th>net_income</th>\n",
       "      <th>dividend</th>\n",
       "      <th>shares_outstanding</th>\n",
       "      <th>price</th>\n",
       "    </tr>\n",
       "  </thead>\n",
       "  <tbody>\n",
       "    <tr>\n",
       "      <th>0</th>\n",
       "      <td>2006-07-31</td>\n",
       "      <td>Stock 1</td>\n",
       "      <td>625.898686</td>\n",
       "      <td>925.086518</td>\n",
       "      <td>1550.985204</td>\n",
       "      <td>675.789905</td>\n",
       "      <td>555.931329</td>\n",
       "      <td>548.488451</td>\n",
       "      <td>251.282553</td>\n",
       "      <td>68.184030</td>\n",
       "      <td>1040831</td>\n",
       "      <td>100.000000</td>\n",
       "    </tr>\n",
       "    <tr>\n",
       "      <th>1</th>\n",
       "      <td>2006-08-31</td>\n",
       "      <td>Stock 1</td>\n",
       "      <td>407.387467</td>\n",
       "      <td>903.249093</td>\n",
       "      <td>1310.636561</td>\n",
       "      <td>1023.110983</td>\n",
       "      <td>1295.186240</td>\n",
       "      <td>513.446432</td>\n",
       "      <td>207.576940</td>\n",
       "      <td>42.232672</td>\n",
       "      <td>1046649</td>\n",
       "      <td>101.924169</td>\n",
       "    </tr>\n",
       "    <tr>\n",
       "      <th>2</th>\n",
       "      <td>2006-09-29</td>\n",
       "      <td>Stock 1</td>\n",
       "      <td>464.069891</td>\n",
       "      <td>602.668832</td>\n",
       "      <td>1066.738722</td>\n",
       "      <td>709.711673</td>\n",
       "      <td>598.719338</td>\n",
       "      <td>503.519871</td>\n",
       "      <td>133.719700</td>\n",
       "      <td>28.835722</td>\n",
       "      <td>1094158</td>\n",
       "      <td>103.166191</td>\n",
       "    </tr>\n",
       "    <tr>\n",
       "      <th>3</th>\n",
       "      <td>2006-10-31</td>\n",
       "      <td>Stock 1</td>\n",
       "      <td>855.854937</td>\n",
       "      <td>391.375369</td>\n",
       "      <td>1247.230306</td>\n",
       "      <td>649.979564</td>\n",
       "      <td>733.594339</td>\n",
       "      <td>596.006397</td>\n",
       "      <td>-76.881818</td>\n",
       "      <td>0.000000</td>\n",
       "      <td>1018574</td>\n",
       "      <td>104.478956</td>\n",
       "    </tr>\n",
       "    <tr>\n",
       "      <th>4</th>\n",
       "      <td>2006-11-30</td>\n",
       "      <td>Stock 1</td>\n",
       "      <td>453.954969</td>\n",
       "      <td>956.490566</td>\n",
       "      <td>1410.445534</td>\n",
       "      <td>1115.594551</td>\n",
       "      <td>1152.274711</td>\n",
       "      <td>965.939247</td>\n",
       "      <td>-309.204301</td>\n",
       "      <td>0.000000</td>\n",
       "      <td>1036293</td>\n",
       "      <td>104.160907</td>\n",
       "    </tr>\n",
       "  </tbody>\n",
       "</table>\n",
       "</div>"
      ],
      "text/plain": [
       "         Date    Stock  liabilities      equity  total_assets  current_assets  \\\n",
       "0  2006-07-31  Stock 1   625.898686  925.086518   1550.985204      675.789905   \n",
       "1  2006-08-31  Stock 1   407.387467  903.249093   1310.636561     1023.110983   \n",
       "2  2006-09-29  Stock 1   464.069891  602.668832   1066.738722      709.711673   \n",
       "3  2006-10-31  Stock 1   855.854937  391.375369   1247.230306      649.979564   \n",
       "4  2006-11-30  Stock 1   453.954969  956.490566   1410.445534     1115.594551   \n",
       "\n",
       "   current_liabilities  total_revenue  net_income   dividend  \\\n",
       "0           555.931329     548.488451  251.282553  68.184030   \n",
       "1          1295.186240     513.446432  207.576940  42.232672   \n",
       "2           598.719338     503.519871  133.719700  28.835722   \n",
       "3           733.594339     596.006397  -76.881818   0.000000   \n",
       "4          1152.274711     965.939247 -309.204301   0.000000   \n",
       "\n",
       "   shares_outstanding       price  \n",
       "0             1040831  100.000000  \n",
       "1             1046649  101.924169  \n",
       "2             1094158  103.166191  \n",
       "3             1018574  104.478956  \n",
       "4             1036293  104.160907  "
      ]
     },
     "execution_count": 4,
     "metadata": {},
     "output_type": "execute_result"
    }
   ],
   "source": [
    "df.head()"
   ]
  },
  {
   "cell_type": "code",
   "execution_count": 5,
   "id": "5cce5b6c",
   "metadata": {
    "execution": {
     "iopub.execute_input": "2023-06-01T15:27:03.069475Z",
     "iopub.status.busy": "2023-06-01T15:27:03.068322Z",
     "iopub.status.idle": "2023-06-01T15:27:03.084875Z",
     "shell.execute_reply": "2023-06-01T15:27:03.083254Z"
    },
    "id": "ObcMnHWGYjAq",
    "papermill": {
     "duration": 0.040579,
     "end_time": "2023-06-01T15:27:03.088230",
     "exception": false,
     "start_time": "2023-06-01T15:27:03.047651",
     "status": "completed"
    },
    "tags": []
   },
   "outputs": [],
   "source": [
    "dfstock_1 = df[df['Stock'] == 'Stock 1']"
   ]
  },
  {
   "cell_type": "code",
   "execution_count": 6,
   "id": "77acb193",
   "metadata": {
    "execution": {
     "iopub.execute_input": "2023-06-01T15:27:03.124898Z",
     "iopub.status.busy": "2023-06-01T15:27:03.124339Z",
     "iopub.status.idle": "2023-06-01T15:27:03.153225Z",
     "shell.execute_reply": "2023-06-01T15:27:03.151787Z"
    },
    "executionInfo": {
     "elapsed": 21,
     "status": "ok",
     "timestamp": 1683903231839,
     "user": {
      "displayName": "James Sawyer",
      "userId": "16205900586708287718"
     },
     "user_tz": 300
    },
    "id": "rOGaXEHjYjuT",
    "outputId": "c14e1ea1-9678-4b63-bca2-4013275728ba",
    "papermill": {
     "duration": 0.051356,
     "end_time": "2023-06-01T15:27:03.156490",
     "exception": false,
     "start_time": "2023-06-01T15:27:03.105134",
     "status": "completed"
    },
    "tags": []
   },
   "outputs": [
    {
     "name": "stdout",
     "output_type": "stream",
     "text": [
      "<class 'pandas.core.frame.DataFrame'>\n",
      "Int64Index: 150 entries, 0 to 149\n",
      "Data columns (total 12 columns):\n",
      " #   Column               Non-Null Count  Dtype  \n",
      "---  ------               --------------  -----  \n",
      " 0   Date                 150 non-null    object \n",
      " 1   Stock                150 non-null    object \n",
      " 2   liabilities          150 non-null    float64\n",
      " 3   equity               150 non-null    float64\n",
      " 4   total_assets         150 non-null    float64\n",
      " 5   current_assets       150 non-null    float64\n",
      " 6   current_liabilities  150 non-null    float64\n",
      " 7   total_revenue        150 non-null    float64\n",
      " 8   net_income           150 non-null    float64\n",
      " 9   dividend             150 non-null    float64\n",
      " 10  shares_outstanding   150 non-null    int64  \n",
      " 11  price                150 non-null    float64\n",
      "dtypes: float64(9), int64(1), object(2)\n",
      "memory usage: 15.2+ KB\n"
     ]
    }
   ],
   "source": [
    "dfstock_1.info()"
   ]
  },
  {
   "cell_type": "code",
   "execution_count": 7,
   "id": "551247dd",
   "metadata": {
    "execution": {
     "iopub.execute_input": "2023-06-01T15:27:03.193070Z",
     "iopub.status.busy": "2023-06-01T15:27:03.192582Z",
     "iopub.status.idle": "2023-06-01T15:27:03.244203Z",
     "shell.execute_reply": "2023-06-01T15:27:03.242971Z"
    },
    "executionInfo": {
     "elapsed": 18,
     "status": "ok",
     "timestamp": 1683903231839,
     "user": {
      "displayName": "James Sawyer",
      "userId": "16205900586708287718"
     },
     "user_tz": 300
    },
    "id": "5OJPn6ydft_S",
    "outputId": "34c98e40-59c1-4c23-8dca-651b91aeb70e",
    "papermill": {
     "duration": 0.073179,
     "end_time": "2023-06-01T15:27:03.246841",
     "exception": false,
     "start_time": "2023-06-01T15:27:03.173662",
     "status": "completed"
    },
    "tags": []
   },
   "outputs": [
    {
     "data": {
      "text/html": [
       "<div>\n",
       "<style scoped>\n",
       "    .dataframe tbody tr th:only-of-type {\n",
       "        vertical-align: middle;\n",
       "    }\n",
       "\n",
       "    .dataframe tbody tr th {\n",
       "        vertical-align: top;\n",
       "    }\n",
       "\n",
       "    .dataframe thead th {\n",
       "        text-align: right;\n",
       "    }\n",
       "</style>\n",
       "<table border=\"1\" class=\"dataframe\">\n",
       "  <thead>\n",
       "    <tr style=\"text-align: right;\">\n",
       "      <th></th>\n",
       "      <th>liabilities</th>\n",
       "      <th>equity</th>\n",
       "      <th>total_assets</th>\n",
       "      <th>current_assets</th>\n",
       "      <th>current_liabilities</th>\n",
       "      <th>total_revenue</th>\n",
       "      <th>net_income</th>\n",
       "      <th>dividend</th>\n",
       "      <th>shares_outstanding</th>\n",
       "      <th>price</th>\n",
       "    </tr>\n",
       "  </thead>\n",
       "  <tbody>\n",
       "    <tr>\n",
       "      <th>count</th>\n",
       "      <td>150.000000</td>\n",
       "      <td>150.000000</td>\n",
       "      <td>150.000000</td>\n",
       "      <td>150.000000</td>\n",
       "      <td>150.000000</td>\n",
       "      <td>150.000000</td>\n",
       "      <td>150.000000</td>\n",
       "      <td>150.000000</td>\n",
       "      <td>1.500000e+02</td>\n",
       "      <td>150.000000</td>\n",
       "    </tr>\n",
       "    <tr>\n",
       "      <th>mean</th>\n",
       "      <td>560.784820</td>\n",
       "      <td>530.635341</td>\n",
       "      <td>1091.420161</td>\n",
       "      <td>601.917385</td>\n",
       "      <td>621.355567</td>\n",
       "      <td>551.068991</td>\n",
       "      <td>21.842957</td>\n",
       "      <td>18.436919</td>\n",
       "      <td>1.050248e+06</td>\n",
       "      <td>118.128898</td>\n",
       "    </tr>\n",
       "    <tr>\n",
       "      <th>std</th>\n",
       "      <td>259.044511</td>\n",
       "      <td>278.940853</td>\n",
       "      <td>359.941061</td>\n",
       "      <td>255.367999</td>\n",
       "      <td>280.428285</td>\n",
       "      <td>280.946513</td>\n",
       "      <td>164.178374</td>\n",
       "      <td>27.171840</td>\n",
       "      <td>2.841855e+04</td>\n",
       "      <td>7.591741</td>\n",
       "    </tr>\n",
       "    <tr>\n",
       "      <th>min</th>\n",
       "      <td>100.068495</td>\n",
       "      <td>102.039178</td>\n",
       "      <td>285.656697</td>\n",
       "      <td>96.206793</td>\n",
       "      <td>97.605022</td>\n",
       "      <td>103.233357</td>\n",
       "      <td>-418.378269</td>\n",
       "      <td>0.000000</td>\n",
       "      <td>1.000753e+06</td>\n",
       "      <td>100.000000</td>\n",
       "    </tr>\n",
       "    <tr>\n",
       "      <th>25%</th>\n",
       "      <td>339.015652</td>\n",
       "      <td>269.481997</td>\n",
       "      <td>880.243062</td>\n",
       "      <td>418.278973</td>\n",
       "      <td>415.979788</td>\n",
       "      <td>283.505359</td>\n",
       "      <td>-70.640190</td>\n",
       "      <td>0.000000</td>\n",
       "      <td>1.025959e+06</td>\n",
       "      <td>113.351152</td>\n",
       "    </tr>\n",
       "    <tr>\n",
       "      <th>50%</th>\n",
       "      <td>587.047512</td>\n",
       "      <td>525.510461</td>\n",
       "      <td>1103.029930</td>\n",
       "      <td>576.163671</td>\n",
       "      <td>576.201465</td>\n",
       "      <td>550.324657</td>\n",
       "      <td>9.512224</td>\n",
       "      <td>2.356472</td>\n",
       "      <td>1.054365e+06</td>\n",
       "      <td>121.553277</td>\n",
       "    </tr>\n",
       "    <tr>\n",
       "      <th>75%</th>\n",
       "      <td>774.912477</td>\n",
       "      <td>776.957911</td>\n",
       "      <td>1331.325492</td>\n",
       "      <td>738.397070</td>\n",
       "      <td>750.821758</td>\n",
       "      <td>803.608259</td>\n",
       "      <td>125.345491</td>\n",
       "      <td>32.528806</td>\n",
       "      <td>1.071502e+06</td>\n",
       "      <td>124.406799</td>\n",
       "    </tr>\n",
       "    <tr>\n",
       "      <th>max</th>\n",
       "      <td>996.050155</td>\n",
       "      <td>989.364516</td>\n",
       "      <td>1931.478841</td>\n",
       "      <td>1335.469155</td>\n",
       "      <td>1595.754465</td>\n",
       "      <td>997.375694</td>\n",
       "      <td>435.857944</td>\n",
       "      <td>130.302688</td>\n",
       "      <td>1.099820e+06</td>\n",
       "      <td>127.651581</td>\n",
       "    </tr>\n",
       "  </tbody>\n",
       "</table>\n",
       "</div>"
      ],
      "text/plain": [
       "       liabilities      equity  total_assets  current_assets  \\\n",
       "count   150.000000  150.000000    150.000000      150.000000   \n",
       "mean    560.784820  530.635341   1091.420161      601.917385   \n",
       "std     259.044511  278.940853    359.941061      255.367999   \n",
       "min     100.068495  102.039178    285.656697       96.206793   \n",
       "25%     339.015652  269.481997    880.243062      418.278973   \n",
       "50%     587.047512  525.510461   1103.029930      576.163671   \n",
       "75%     774.912477  776.957911   1331.325492      738.397070   \n",
       "max     996.050155  989.364516   1931.478841     1335.469155   \n",
       "\n",
       "       current_liabilities  total_revenue  net_income    dividend  \\\n",
       "count           150.000000     150.000000  150.000000  150.000000   \n",
       "mean            621.355567     551.068991   21.842957   18.436919   \n",
       "std             280.428285     280.946513  164.178374   27.171840   \n",
       "min              97.605022     103.233357 -418.378269    0.000000   \n",
       "25%             415.979788     283.505359  -70.640190    0.000000   \n",
       "50%             576.201465     550.324657    9.512224    2.356472   \n",
       "75%             750.821758     803.608259  125.345491   32.528806   \n",
       "max            1595.754465     997.375694  435.857944  130.302688   \n",
       "\n",
       "       shares_outstanding       price  \n",
       "count        1.500000e+02  150.000000  \n",
       "mean         1.050248e+06  118.128898  \n",
       "std          2.841855e+04    7.591741  \n",
       "min          1.000753e+06  100.000000  \n",
       "25%          1.025959e+06  113.351152  \n",
       "50%          1.054365e+06  121.553277  \n",
       "75%          1.071502e+06  124.406799  \n",
       "max          1.099820e+06  127.651581  "
      ]
     },
     "execution_count": 7,
     "metadata": {},
     "output_type": "execute_result"
    }
   ],
   "source": [
    "dfstock_1.describe()"
   ]
  },
  {
   "cell_type": "code",
   "execution_count": 8,
   "id": "54124f0d",
   "metadata": {
    "execution": {
     "iopub.execute_input": "2023-06-01T15:27:03.284221Z",
     "iopub.status.busy": "2023-06-01T15:27:03.283452Z",
     "iopub.status.idle": "2023-06-01T15:27:03.302785Z",
     "shell.execute_reply": "2023-06-01T15:27:03.301593Z"
    },
    "executionInfo": {
     "elapsed": 18,
     "status": "ok",
     "timestamp": 1683903231840,
     "user": {
      "displayName": "James Sawyer",
      "userId": "16205900586708287718"
     },
     "user_tz": 300
    },
    "id": "1yCKgQ27YxpL",
    "outputId": "66c649fc-f109-4625-ed8d-709dc580948f",
    "papermill": {
     "duration": 0.041216,
     "end_time": "2023-06-01T15:27:03.305572",
     "exception": false,
     "start_time": "2023-06-01T15:27:03.264356",
     "status": "completed"
    },
    "tags": []
   },
   "outputs": [
    {
     "data": {
      "text/html": [
       "<div>\n",
       "<style scoped>\n",
       "    .dataframe tbody tr th:only-of-type {\n",
       "        vertical-align: middle;\n",
       "    }\n",
       "\n",
       "    .dataframe tbody tr th {\n",
       "        vertical-align: top;\n",
       "    }\n",
       "\n",
       "    .dataframe thead th {\n",
       "        text-align: right;\n",
       "    }\n",
       "</style>\n",
       "<table border=\"1\" class=\"dataframe\">\n",
       "  <thead>\n",
       "    <tr style=\"text-align: right;\">\n",
       "      <th></th>\n",
       "      <th>Date</th>\n",
       "      <th>Stock</th>\n",
       "      <th>liabilities</th>\n",
       "      <th>equity</th>\n",
       "      <th>total_assets</th>\n",
       "      <th>current_assets</th>\n",
       "      <th>current_liabilities</th>\n",
       "      <th>total_revenue</th>\n",
       "      <th>net_income</th>\n",
       "      <th>dividend</th>\n",
       "      <th>shares_outstanding</th>\n",
       "      <th>price</th>\n",
       "    </tr>\n",
       "  </thead>\n",
       "  <tbody>\n",
       "    <tr>\n",
       "      <th>145</th>\n",
       "      <td>2018-08-31</td>\n",
       "      <td>Stock 1</td>\n",
       "      <td>942.616474</td>\n",
       "      <td>609.920789</td>\n",
       "      <td>1552.537263</td>\n",
       "      <td>661.976873</td>\n",
       "      <td>715.889802</td>\n",
       "      <td>936.585763</td>\n",
       "      <td>88.769479</td>\n",
       "      <td>19.084403</td>\n",
       "      <td>1022653</td>\n",
       "      <td>120.895608</td>\n",
       "    </tr>\n",
       "    <tr>\n",
       "      <th>146</th>\n",
       "      <td>2018-09-28</td>\n",
       "      <td>Stock 1</td>\n",
       "      <td>418.596827</td>\n",
       "      <td>584.891097</td>\n",
       "      <td>1003.487923</td>\n",
       "      <td>774.901898</td>\n",
       "      <td>859.111171</td>\n",
       "      <td>791.455748</td>\n",
       "      <td>139.537471</td>\n",
       "      <td>32.383487</td>\n",
       "      <td>1012494</td>\n",
       "      <td>120.817216</td>\n",
       "    </tr>\n",
       "    <tr>\n",
       "      <th>147</th>\n",
       "      <td>2018-10-31</td>\n",
       "      <td>Stock 1</td>\n",
       "      <td>238.005662</td>\n",
       "      <td>788.400811</td>\n",
       "      <td>1026.406473</td>\n",
       "      <td>583.243894</td>\n",
       "      <td>719.977839</td>\n",
       "      <td>533.621702</td>\n",
       "      <td>-257.296635</td>\n",
       "      <td>0.000000</td>\n",
       "      <td>1088180</td>\n",
       "      <td>121.541253</td>\n",
       "    </tr>\n",
       "    <tr>\n",
       "      <th>148</th>\n",
       "      <td>2018-11-30</td>\n",
       "      <td>Stock 1</td>\n",
       "      <td>806.255849</td>\n",
       "      <td>637.488221</td>\n",
       "      <td>1443.744070</td>\n",
       "      <td>636.300679</td>\n",
       "      <td>561.640812</td>\n",
       "      <td>680.740216</td>\n",
       "      <td>-72.796162</td>\n",
       "      <td>0.000000</td>\n",
       "      <td>1046014</td>\n",
       "      <td>120.380297</td>\n",
       "    </tr>\n",
       "    <tr>\n",
       "      <th>149</th>\n",
       "      <td>2018-12-31</td>\n",
       "      <td>Stock 1</td>\n",
       "      <td>737.221144</td>\n",
       "      <td>718.365340</td>\n",
       "      <td>1455.586484</td>\n",
       "      <td>619.734902</td>\n",
       "      <td>690.981133</td>\n",
       "      <td>199.451368</td>\n",
       "      <td>-12.169262</td>\n",
       "      <td>0.000000</td>\n",
       "      <td>1074004</td>\n",
       "      <td>119.687371</td>\n",
       "    </tr>\n",
       "  </tbody>\n",
       "</table>\n",
       "</div>"
      ],
      "text/plain": [
       "           Date    Stock  liabilities      equity  total_assets  \\\n",
       "145  2018-08-31  Stock 1   942.616474  609.920789   1552.537263   \n",
       "146  2018-09-28  Stock 1   418.596827  584.891097   1003.487923   \n",
       "147  2018-10-31  Stock 1   238.005662  788.400811   1026.406473   \n",
       "148  2018-11-30  Stock 1   806.255849  637.488221   1443.744070   \n",
       "149  2018-12-31  Stock 1   737.221144  718.365340   1455.586484   \n",
       "\n",
       "     current_assets  current_liabilities  total_revenue  net_income  \\\n",
       "145      661.976873           715.889802     936.585763   88.769479   \n",
       "146      774.901898           859.111171     791.455748  139.537471   \n",
       "147      583.243894           719.977839     533.621702 -257.296635   \n",
       "148      636.300679           561.640812     680.740216  -72.796162   \n",
       "149      619.734902           690.981133     199.451368  -12.169262   \n",
       "\n",
       "      dividend  shares_outstanding       price  \n",
       "145  19.084403             1022653  120.895608  \n",
       "146  32.383487             1012494  120.817216  \n",
       "147   0.000000             1088180  121.541253  \n",
       "148   0.000000             1046014  120.380297  \n",
       "149   0.000000             1074004  119.687371  "
      ]
     },
     "execution_count": 8,
     "metadata": {},
     "output_type": "execute_result"
    }
   ],
   "source": [
    "dfstock_1.tail()"
   ]
  },
  {
   "cell_type": "code",
   "execution_count": 9,
   "id": "0c5a2506",
   "metadata": {
    "execution": {
     "iopub.execute_input": "2023-06-01T15:27:03.344086Z",
     "iopub.status.busy": "2023-06-01T15:27:03.343366Z",
     "iopub.status.idle": "2023-06-01T15:27:03.352413Z",
     "shell.execute_reply": "2023-06-01T15:27:03.351452Z"
    },
    "executionInfo": {
     "elapsed": 17,
     "status": "ok",
     "timestamp": 1683903231840,
     "user": {
      "displayName": "James Sawyer",
      "userId": "16205900586708287718"
     },
     "user_tz": 300
    },
    "id": "CS33dxW0Y05L",
    "outputId": "4e1fad37-43a6-42f5-c4af-ac68ce17bc33",
    "papermill": {
     "duration": 0.031725,
     "end_time": "2023-06-01T15:27:03.354899",
     "exception": false,
     "start_time": "2023-06-01T15:27:03.323174",
     "status": "completed"
    },
    "tags": []
   },
   "outputs": [
    {
     "data": {
      "text/plain": [
       "0      101.924169\n",
       "1      103.166191\n",
       "2      104.478956\n",
       "3      104.160907\n",
       "4      103.133923\n",
       "          ...    \n",
       "145    120.817216\n",
       "146    121.541253\n",
       "147    120.380297\n",
       "148    119.687371\n",
       "149           NaN\n",
       "Name: price, Length: 150, dtype: float64"
      ]
     },
     "execution_count": 9,
     "metadata": {},
     "output_type": "execute_result"
    }
   ],
   "source": [
    "# to predict price we need to do two things for time series modeling. The first is to set row 0 price = row 1 price for prediction sake, then to drop the last row since we won't have the data necessary to predict forward. \n",
    "\n",
    "dfstock_1.price.shift(-1) # shift the price data"
   ]
  },
  {
   "cell_type": "code",
   "execution_count": 10,
   "id": "9694922f",
   "metadata": {
    "execution": {
     "iopub.execute_input": "2023-06-01T15:27:03.392888Z",
     "iopub.status.busy": "2023-06-01T15:27:03.392060Z",
     "iopub.status.idle": "2023-06-01T15:27:03.399344Z",
     "shell.execute_reply": "2023-06-01T15:27:03.398034Z"
    },
    "executionInfo": {
     "elapsed": 17,
     "status": "ok",
     "timestamp": 1683903231841,
     "user": {
      "displayName": "James Sawyer",
      "userId": "16205900586708287718"
     },
     "user_tz": 300
    },
    "id": "3dGJg_NkZUnK",
    "outputId": "b284ee58-3c2a-43ca-b513-b422f745326e",
    "papermill": {
     "duration": 0.029522,
     "end_time": "2023-06-01T15:27:03.402165",
     "exception": false,
     "start_time": "2023-06-01T15:27:03.372643",
     "status": "completed"
    },
    "tags": []
   },
   "outputs": [
    {
     "name": "stderr",
     "output_type": "stream",
     "text": [
      "C:\\ProgramData\\Anaconda3\\lib\\site-packages\\pandas\\core\\frame.py:4906: SettingWithCopyWarning: \n",
      "A value is trying to be set on a copy of a slice from a DataFrame\n",
      "\n",
      "See the caveats in the documentation: https://pandas.pydata.org/pandas-docs/stable/user_guide/indexing.html#returning-a-view-versus-a-copy\n",
      "  return super().drop(\n"
     ]
    }
   ],
   "source": [
    "dfstock_1.drop(dfstock_1.tail(1).index,inplace=True) # drop last n rows"
   ]
  },
  {
   "cell_type": "code",
   "execution_count": 11,
   "id": "6a7a9bd4",
   "metadata": {
    "execution": {
     "iopub.execute_input": "2023-06-01T15:27:03.440999Z",
     "iopub.status.busy": "2023-06-01T15:27:03.440464Z",
     "iopub.status.idle": "2023-06-01T15:27:03.457647Z",
     "shell.execute_reply": "2023-06-01T15:27:03.455963Z"
    },
    "executionInfo": {
     "elapsed": 15,
     "status": "ok",
     "timestamp": 1683903231841,
     "user": {
      "displayName": "James Sawyer",
      "userId": "16205900586708287718"
     },
     "user_tz": 300
    },
    "id": "N9GITGLrZWA7",
    "outputId": "7be290c3-4f49-4e0a-fcc5-79b3f4d20979",
    "papermill": {
     "duration": 0.040575,
     "end_time": "2023-06-01T15:27:03.460595",
     "exception": false,
     "start_time": "2023-06-01T15:27:03.420020",
     "status": "completed"
    },
    "tags": []
   },
   "outputs": [
    {
     "name": "stdout",
     "output_type": "stream",
     "text": [
      "<class 'pandas.core.frame.DataFrame'>\n",
      "Int64Index: 149 entries, 0 to 148\n",
      "Data columns (total 12 columns):\n",
      " #   Column               Non-Null Count  Dtype  \n",
      "---  ------               --------------  -----  \n",
      " 0   Date                 149 non-null    object \n",
      " 1   Stock                149 non-null    object \n",
      " 2   liabilities          149 non-null    float64\n",
      " 3   equity               149 non-null    float64\n",
      " 4   total_assets         149 non-null    float64\n",
      " 5   current_assets       149 non-null    float64\n",
      " 6   current_liabilities  149 non-null    float64\n",
      " 7   total_revenue        149 non-null    float64\n",
      " 8   net_income           149 non-null    float64\n",
      " 9   dividend             149 non-null    float64\n",
      " 10  shares_outstanding   149 non-null    int64  \n",
      " 11  price                149 non-null    float64\n",
      "dtypes: float64(9), int64(1), object(2)\n",
      "memory usage: 15.1+ KB\n"
     ]
    }
   ],
   "source": [
    "dfstock_1.info() # 149 and shifted"
   ]
  },
  {
   "cell_type": "code",
   "execution_count": 12,
   "id": "2fe5c711",
   "metadata": {
    "execution": {
     "iopub.execute_input": "2023-06-01T15:27:03.498902Z",
     "iopub.status.busy": "2023-06-01T15:27:03.498350Z",
     "iopub.status.idle": "2023-06-01T15:27:05.580371Z",
     "shell.execute_reply": "2023-06-01T15:27:05.578992Z"
    },
    "executionInfo": {
     "elapsed": 4064,
     "status": "ok",
     "timestamp": 1683903235891,
     "user": {
      "displayName": "James Sawyer",
      "userId": "16205900586708287718"
     },
     "user_tz": 300
    },
    "id": "ipeB33qvZq_M",
    "outputId": "2881f245-414c-4726-e448-85af4fe6998d",
    "papermill": {
     "duration": 2.104435,
     "end_time": "2023-06-01T15:27:05.583440",
     "exception": false,
     "start_time": "2023-06-01T15:27:03.479005",
     "status": "completed"
    },
    "tags": []
   },
   "outputs": [
    {
     "data": {
      "image/png": "[encoded data removed]",
      "text/plain": [
       "<Figure size 1440x720 with 12 Axes>"
      ]
     },
     "metadata": {
      "needs_background": "light"
     },
     "output_type": "display_data"
    }
   ],
   "source": [
    "# let's visualize and do EDA\n",
    "\n",
    "dfstock_1.hist(figsize=(20,10))\n",
    "plt.suptitle('Histogram of Stock 1')\n",
    "plt.show()"
   ]
  },
  {
   "cell_type": "code",
   "execution_count": 13,
   "id": "a3bc7216",
   "metadata": {
    "execution": {
     "iopub.execute_input": "2023-06-01T15:27:05.624663Z",
     "iopub.status.busy": "2023-06-01T15:27:05.623713Z",
     "iopub.status.idle": "2023-06-01T15:27:06.936240Z",
     "shell.execute_reply": "2023-06-01T15:27:06.934796Z"
    },
    "executionInfo": {
     "elapsed": 4371,
     "status": "ok",
     "timestamp": 1683903240255,
     "user": {
      "displayName": "James Sawyer",
      "userId": "16205900586708287718"
     },
     "user_tz": 300
    },
    "id": "pu4pvJhiZ3Yz",
    "outputId": "ddb0ba03-ab45-4497-d147-2ac200b94e3f",
    "papermill": {
     "duration": 1.336434,
     "end_time": "2023-06-01T15:27:06.939183",
     "exception": false,
     "start_time": "2023-06-01T15:27:05.602749",
     "status": "completed"
    },
    "tags": []
   },
   "outputs": [
    {
     "data": {
      "image/png": "[encoded data removed]",
      "text/plain": [
       "<Figure size 1440x720 with 9 Axes>"
      ]
     },
     "metadata": {
      "needs_background": "light"
     },
     "output_type": "display_data"
    }
   ],
   "source": [
    "# looking for outliers\n",
    "\n",
    "plt.figure(figsize=(20,10))\n",
    "plt.suptitle('Boxplot')\n",
    "\n",
    "plt.subplot(3,3,1)\n",
    "plt.title('liabilites')\n",
    "plt.boxplot(dfstock_1['liabilities'])\n",
    "\n",
    "plt.subplot(3,3,2)\n",
    "plt.title('equity')\n",
    "plt.boxplot(dfstock_1['equity'])\n",
    "\n",
    "plt.subplot(3,3,3)\n",
    "plt.title('total assets')\n",
    "plt.boxplot(dfstock_1['total_assets'])\n",
    "\n",
    "plt.subplot(3,3,4)\n",
    "plt.title('current assets')\n",
    "plt.boxplot(dfstock_1['current_assets'])\n",
    "\n",
    "plt.subplot(3,3,5)\n",
    "plt.title('current liabilities')\n",
    "plt.boxplot(dfstock_1['current_liabilities'])\n",
    "\n",
    "plt.subplot(3,3,6)\n",
    "plt.title('total revenue')\n",
    "plt.boxplot(dfstock_1['total_revenue'])\n",
    "\n",
    "plt.subplot(3,3,7)\n",
    "plt.title('net income')\n",
    "plt.boxplot(dfstock_1['net_income'])\n",
    "\n",
    "plt.subplot(3,3,8)\n",
    "plt.title('dividend')\n",
    "plt.boxplot(dfstock_1['dividend'])\n",
    "\n",
    "plt.subplot(3,3,9)\n",
    "plt.title('price')\n",
    "plt.boxplot(dfstock_1['price'])\n",
    "\n",
    "plt.show()"
   ]
  },
  {
   "cell_type": "code",
   "execution_count": 14,
   "id": "282e6ea9",
   "metadata": {
    "execution": {
     "iopub.execute_input": "2023-06-01T15:27:06.982684Z",
     "iopub.status.busy": "2023-06-01T15:27:06.982201Z",
     "iopub.status.idle": "2023-06-01T15:27:06.987241Z",
     "shell.execute_reply": "2023-06-01T15:27:06.986063Z"
    },
    "id": "X_qH8a1XaART",
    "papermill": {
     "duration": 0.029942,
     "end_time": "2023-06-01T15:27:06.989725",
     "exception": false,
     "start_time": "2023-06-01T15:27:06.959783",
     "status": "completed"
    },
    "tags": []
   },
   "outputs": [],
   "source": [
    "# going to winsorize to get rid of outliers"
   ]
  },
  {
   "cell_type": "code",
   "execution_count": 15,
   "id": "994914a7",
   "metadata": {
    "execution": {
     "iopub.execute_input": "2023-06-01T15:27:07.034682Z",
     "iopub.status.busy": "2023-06-01T15:27:07.033854Z",
     "iopub.status.idle": "2023-06-01T15:27:07.405819Z",
     "shell.execute_reply": "2023-06-01T15:27:07.404298Z"
    },
    "executionInfo": {
     "elapsed": 347,
     "status": "ok",
     "timestamp": 1683903240598,
     "user": {
      "displayName": "James Sawyer",
      "userId": "16205900586708287718"
     },
     "user_tz": 300
    },
    "id": "dHxBEZxylJ2a",
    "outputId": "de186f43-4027-4402-e6e4-59f7a689e5e5",
    "papermill": {
     "duration": 0.39785,
     "end_time": "2023-06-01T15:27:07.408920",
     "exception": false,
     "start_time": "2023-06-01T15:27:07.011070",
     "status": "completed"
    },
    "tags": []
   },
   "outputs": [
    {
     "data": {
      "image/png": "[encoded data removed]",
      "text/plain": [
       "<Figure size 1080x576 with 1 Axes>"
      ]
     },
     "metadata": {
      "needs_background": "light"
     },
     "output_type": "display_data"
    }
   ],
   "source": [
    "cdfstock_1 = dfstock_1 # clean df stock of 1\n",
    "\n",
    "# let's visualize price over time\n",
    "\n",
    "cdfstock_1.plot(y='price', subplots=True, figsize=(15, 8), fontsize=12)\n",
    "plt.title('Price over Time (Non-Standardized)', fontsize=16)\n",
    "plt.xlabel('Date', fontsize=12)\n",
    "plt.ylabel('Price', fontsize=12)\n",
    "plt.show()"
   ]
  },
  {
   "cell_type": "code",
   "execution_count": 16,
   "id": "3f5b3319",
   "metadata": {
    "execution": {
     "iopub.execute_input": "2023-06-01T15:27:07.453573Z",
     "iopub.status.busy": "2023-06-01T15:27:07.453074Z",
     "iopub.status.idle": "2023-06-01T15:27:07.470757Z",
     "shell.execute_reply": "2023-06-01T15:27:07.469153Z"
    },
    "executionInfo": {
     "elapsed": 6,
     "status": "ok",
     "timestamp": 1683903240599,
     "user": {
      "displayName": "James Sawyer",
      "userId": "16205900586708287718"
     },
     "user_tz": 300
    },
    "id": "bEyqWHyeajpL",
    "outputId": "79911f93-a61d-4796-dbba-d25dd4af1249",
    "papermill": {
     "duration": 0.043362,
     "end_time": "2023-06-01T15:27:07.473534",
     "exception": false,
     "start_time": "2023-06-01T15:27:07.430172",
     "status": "completed"
    },
    "scrolled": true,
    "tags": []
   },
   "outputs": [
    {
     "name": "stderr",
     "output_type": "stream",
     "text": [
      "C:\\Users\\500225~2\\AppData\\Local\\Temp/ipykernel_1396/460861446.py:1: SettingWithCopyWarning: \n",
      "A value is trying to be set on a copy of a slice from a DataFrame.\n",
      "Try using .loc[row_indexer,col_indexer] = value instead\n",
      "\n",
      "See the caveats in the documentation: https://pandas.pydata.org/pandas-docs/stable/user_guide/indexing.html#returning-a-view-versus-a-copy\n",
      "  cdfstock_1['current_assets'] = winsorize(dfstock_1['current_assets'], (.05, 0.05))\n",
      "C:\\Users\\500225~2\\AppData\\Local\\Temp/ipykernel_1396/460861446.py:2: SettingWithCopyWarning: \n",
      "A value is trying to be set on a copy of a slice from a DataFrame.\n",
      "Try using .loc[row_indexer,col_indexer] = value instead\n",
      "\n",
      "See the caveats in the documentation: https://pandas.pydata.org/pandas-docs/stable/user_guide/indexing.html#returning-a-view-versus-a-copy\n",
      "  cdfstock_1['current_liabilities'] = winsorize(dfstock_1['current_liabilities'], (.05, 0.05))\n",
      "C:\\Users\\500225~2\\AppData\\Local\\Temp/ipykernel_1396/460861446.py:3: SettingWithCopyWarning: \n",
      "A value is trying to be set on a copy of a slice from a DataFrame.\n",
      "Try using .loc[row_indexer,col_indexer] = value instead\n",
      "\n",
      "See the caveats in the documentation: https://pandas.pydata.org/pandas-docs/stable/user_guide/indexing.html#returning-a-view-versus-a-copy\n",
      "  cdfstock_1['net_income'] = winsorize(dfstock_1['net_income'], (.05, 0.05))\n",
      "C:\\Users\\500225~2\\AppData\\Local\\Temp/ipykernel_1396/460861446.py:4: SettingWithCopyWarning: \n",
      "A value is trying to be set on a copy of a slice from a DataFrame.\n",
      "Try using .loc[row_indexer,col_indexer] = value instead\n",
      "\n",
      "See the caveats in the documentation: https://pandas.pydata.org/pandas-docs/stable/user_guide/indexing.html#returning-a-view-versus-a-copy\n",
      "  cdfstock_1['dividend'] = winsorize(dfstock_1['dividend'], (.0, 0.1))\n",
      "C:\\Users\\500225~2\\AppData\\Local\\Temp/ipykernel_1396/460861446.py:5: SettingWithCopyWarning: \n",
      "A value is trying to be set on a copy of a slice from a DataFrame.\n",
      "Try using .loc[row_indexer,col_indexer] = value instead\n",
      "\n",
      "See the caveats in the documentation: https://pandas.pydata.org/pandas-docs/stable/user_guide/indexing.html#returning-a-view-versus-a-copy\n",
      "  cdfstock_1['price'] = winsorize(dfstock_1['price'], (.05, 0.05))\n"
     ]
    }
   ],
   "source": [
    "cdfstock_1['current_assets'] = winsorize(dfstock_1['current_assets'], (.05, 0.05))\n",
    "cdfstock_1['current_liabilities'] = winsorize(dfstock_1['current_liabilities'], (.05, 0.05))\n",
    "cdfstock_1['net_income'] = winsorize(dfstock_1['net_income'], (.05, 0.05))\n",
    "cdfstock_1['dividend'] = winsorize(dfstock_1['dividend'], (.0, 0.1))\n",
    "cdfstock_1['price'] = winsorize(dfstock_1['price'], (.05, 0.05))"
   ]
  },
  {
   "cell_type": "code",
   "execution_count": 17,
   "id": "10af3958",
   "metadata": {
    "execution": {
     "iopub.execute_input": "2023-06-01T15:27:07.519162Z",
     "iopub.status.busy": "2023-06-01T15:27:07.517895Z",
     "iopub.status.idle": "2023-06-01T15:27:08.798155Z",
     "shell.execute_reply": "2023-06-01T15:27:08.797031Z"
    },
    "executionInfo": {
     "elapsed": 3261,
     "status": "ok",
     "timestamp": 1683903243857,
     "user": {
      "displayName": "James Sawyer",
      "userId": "16205900586708287718"
     },
     "user_tz": 300
    },
    "id": "QH_oQSUDap8i",
    "outputId": "e448b018-bbd4-45c2-d379-46b5738eb5a4",
    "papermill": {
     "duration": 1.306063,
     "end_time": "2023-06-01T15:27:08.801314",
     "exception": false,
     "start_time": "2023-06-01T15:27:07.495251",
     "status": "completed"
    },
    "tags": []
   },
   "outputs": [
    {
     "data": {
      "image/png": "[encoded data removed]",
      "text/plain": [
       "<Figure size 1440x720 with 9 Axes>"
      ]
     },
     "metadata": {
      "needs_background": "light"
     },
     "output_type": "display_data"
    }
   ],
   "source": [
    "# plotting winsorized data\n",
    "\n",
    "plt.figure(figsize=(20,10))\n",
    "plt.suptitle('Wisorized Boxplot')\n",
    "\n",
    "plt.subplot(3,3,1)\n",
    "plt.title('liabilites')\n",
    "plt.boxplot(cdfstock_1['liabilities'])\n",
    "\n",
    "plt.subplot(3,3,2)\n",
    "plt.title('equity')\n",
    "plt.boxplot(cdfstock_1['equity'])\n",
    "\n",
    "plt.subplot(3,3,3)\n",
    "plt.title('total assets')\n",
    "plt.boxplot(cdfstock_1['total_assets'])\n",
    "\n",
    "plt.subplot(3,3,4)\n",
    "plt.title('current assets')\n",
    "plt.boxplot(cdfstock_1['current_assets'])\n",
    "\n",
    "plt.subplot(3,3,5)\n",
    "plt.title('current liabilities')\n",
    "plt.boxplot(cdfstock_1['current_liabilities'])\n",
    "\n",
    "plt.subplot(3,3,6)\n",
    "plt.title('total revenue')\n",
    "plt.boxplot(cdfstock_1['total_revenue'])\n",
    "\n",
    "plt.subplot(3,3,7)\n",
    "plt.title('net income')\n",
    "plt.boxplot(cdfstock_1['net_income'])\n",
    "\n",
    "plt.subplot(3,3,8)\n",
    "plt.title('dividend')\n",
    "plt.boxplot(cdfstock_1['dividend'])\n",
    "\n",
    "plt.subplot(3,3,9)\n",
    "plt.title('price')\n",
    "plt.boxplot(cdfstock_1['price'])\n",
    "\n",
    "plt.show()"
   ]
  },
  {
   "cell_type": "markdown",
   "id": "27efe400",
   "metadata": {
    "execution": {
     "iopub.execute_input": "2023-06-01T15:27:08.849543Z",
     "iopub.status.busy": "2023-06-01T15:27:08.848620Z",
     "iopub.status.idle": "2023-06-01T15:27:08.853356Z",
     "shell.execute_reply": "2023-06-01T15:27:08.852394Z"
    },
    "id": "Wv872L72Adjy",
    "papermill": {
     "duration": 0.03179,
     "end_time": "2023-06-01T15:27:08.855862",
     "exception": false,
     "start_time": "2023-06-01T15:27:08.824072",
     "status": "completed"
    },
    "tags": []
   },
   "source": [
    "# multivariate analysis\n"
   ]
  },
  {
   "cell_type": "code",
   "execution_count": 19,
   "id": "c0b0795e",
   "metadata": {
    "execution": {
     "iopub.execute_input": "2023-06-01T15:27:08.911164Z",
     "iopub.status.busy": "2023-06-01T15:27:08.910660Z",
     "iopub.status.idle": "2023-06-01T15:27:08.920705Z",
     "shell.execute_reply": "2023-06-01T15:27:08.919302Z"
    },
    "executionInfo": {
     "elapsed": 287,
     "status": "ok",
     "timestamp": 1683904354118,
     "user": {
      "displayName": "James Sawyer",
      "userId": "16205900586708287718"
     },
     "user_tz": 300
    },
    "id": "FH3YT6gMBs3p",
    "outputId": "5efdd548-c4a9-49ac-c504-d76a25ceeb40",
    "papermill": {
     "duration": 0.039748,
     "end_time": "2023-06-01T15:27:08.923800",
     "exception": false,
     "start_time": "2023-06-01T15:27:08.884052",
     "status": "completed"
    },
    "tags": []
   },
   "outputs": [],
   "source": [
    "corrmat = cdfstock_1.corr()['price']\n"
   ]
  },
  {
   "cell_type": "code",
   "execution_count": 20,
   "id": "1baadbdd",
   "metadata": {
    "execution": {
     "iopub.execute_input": "2023-06-01T15:27:08.976297Z",
     "iopub.status.busy": "2023-06-01T15:27:08.974921Z",
     "iopub.status.idle": "2023-06-01T15:27:08.985213Z",
     "shell.execute_reply": "2023-06-01T15:27:08.983437Z"
    },
    "executionInfo": {
     "elapsed": 294,
     "status": "ok",
     "timestamp": 1683904362398,
     "user": {
      "displayName": "James Sawyer",
      "userId": "16205900586708287718"
     },
     "user_tz": 300
    },
    "id": "Cj4Q9un53f5o",
    "outputId": "8c1db403-6eb1-4990-9bad-b7254fc35754",
    "papermill": {
     "duration": 0.041732,
     "end_time": "2023-06-01T15:27:08.988139",
     "exception": false,
     "start_time": "2023-06-01T15:27:08.946407",
     "status": "completed"
    },
    "tags": []
   },
   "outputs": [
    {
     "name": "stdout",
     "output_type": "stream",
     "text": [
      "liabilities           -0.031956\n",
      "equity                 0.056920\n",
      "total_assets           0.021154\n",
      "current_assets        -0.047518\n",
      "current_liabilities   -0.054563\n",
      "total_revenue         -0.027295\n",
      "net_income            -0.199960\n",
      "dividend              -0.173020\n",
      "shares_outstanding    -0.008032\n",
      "price                  1.000000\n",
      "Name: price, dtype: float64\n"
     ]
    }
   ],
   "source": [
    "print(corrmat)"
   ]
  },
  {
   "cell_type": "markdown",
   "id": "be70f3e8",
   "metadata": {
    "execution": {
     "iopub.execute_input": "2023-06-01T15:27:09.038944Z",
     "iopub.status.busy": "2023-06-01T15:27:09.037794Z",
     "iopub.status.idle": "2023-06-01T15:27:09.042723Z",
     "shell.execute_reply": "2023-06-01T15:27:09.041777Z"
    },
    "id": "9EwxTBLMC0-w",
    "papermill": {
     "duration": 0.031486,
     "end_time": "2023-06-01T15:27:09.045222",
     "exception": false,
     "start_time": "2023-06-01T15:27:09.013736",
     "status": "completed"
    },
    "tags": []
   },
   "source": [
    "# I am seeing little correlation with any variable and price... current liabilities and current assets / net income and dividend appear to be highly correlated"
   ]
  },
  {
   "cell_type": "code",
   "execution_count": 22,
   "id": "3c874c41",
   "metadata": {
    "execution": {
     "iopub.execute_input": "2023-06-01T15:27:09.096190Z",
     "iopub.status.busy": "2023-06-01T15:27:09.095267Z",
     "iopub.status.idle": "2023-06-01T15:27:09.704475Z",
     "shell.execute_reply": "2023-06-01T15:27:09.702912Z"
    },
    "executionInfo": {
     "elapsed": 2910,
     "status": "ok",
     "timestamp": 1683903896201,
     "user": {
      "displayName": "James Sawyer",
      "userId": "16205900586708287718"
     },
     "user_tz": 300
    },
    "id": "LeLyhZiKCwm4",
    "outputId": "d523ef7a-ae53-42a8-b080-2deb45657f1b",
    "papermill": {
     "duration": 0.6373,
     "end_time": "2023-06-01T15:27:09.707761",
     "exception": false,
     "start_time": "2023-06-01T15:27:09.070461",
     "status": "completed"
    },
    "tags": []
   },
   "outputs": [
    {
     "data": {
      "image/png": "[encoded data removed]",
      "text/plain": [
       "<Figure size 1296x360 with 3 Axes>"
      ]
     },
     "metadata": {
      "needs_background": "light"
     },
     "output_type": "display_data"
    }
   ],
   "source": [
    "plt.figure(figsize=(18,5))\n",
    "\n",
    "plt.subplot(1,3,1)\n",
    "plt.scatter(cdfstock_1['net_income'], cdfstock_1['price'])\n",
    "plt.title('Net Income vs Price')\n",
    "\n",
    "plt.subplot(1,3,2)\n",
    "plt.scatter(cdfstock_1['dividend'], cdfstock_1['net_income'])\n",
    "plt.title('Dividend vs Net Income')\n",
    "\n",
    "plt.subplot(1,3,3)\n",
    "plt.scatter(cdfstock_1['equity'], cdfstock_1['price'])\n",
    "plt.title('Equity vs Price')\n",
    "\n",
    "\n",
    "plt.show()"
   ]
  },
  {
   "cell_type": "code",
   "execution_count": 23,
   "id": "fa9088ed",
   "metadata": {
    "execution": {
     "iopub.execute_input": "2023-06-01T15:27:09.759171Z",
     "iopub.status.busy": "2023-06-01T15:27:09.758681Z",
     "iopub.status.idle": "2023-06-01T15:27:09.763918Z",
     "shell.execute_reply": "2023-06-01T15:27:09.762520Z"
    },
    "id": "DeiMu6JSDZ4x",
    "papermill": {
     "duration": 0.034885,
     "end_time": "2023-06-01T15:27:09.766496",
     "exception": false,
     "start_time": "2023-06-01T15:27:09.731611",
     "status": "completed"
    },
    "tags": []
   },
   "outputs": [],
   "source": [
    "# I am going to take the difference of current assets and current liabilities to make a new feature 'working capital', so that we have one less feature in our dataset."
   ]
  },
  {
   "cell_type": "code",
   "execution_count": 24,
   "id": "1c52d87b",
   "metadata": {
    "execution": {
     "iopub.execute_input": "2023-06-01T15:27:09.815204Z",
     "iopub.status.busy": "2023-06-01T15:27:09.814739Z",
     "iopub.status.idle": "2023-06-01T15:27:09.823423Z",
     "shell.execute_reply": "2023-06-01T15:27:09.822083Z"
    },
    "executionInfo": {
     "elapsed": 19,
     "status": "ok",
     "timestamp": 1683903246644,
     "user": {
      "displayName": "James Sawyer",
      "userId": "16205900586708287718"
     },
     "user_tz": 300
    },
    "id": "s8AvY3ynChiZ",
    "outputId": "e19b4e44-99cf-4a88-fa02-8c1d599eecfe",
    "papermill": {
     "duration": 0.036525,
     "end_time": "2023-06-01T15:27:09.826341",
     "exception": false,
     "start_time": "2023-06-01T15:27:09.789816",
     "status": "completed"
    },
    "tags": []
   },
   "outputs": [
    {
     "name": "stderr",
     "output_type": "stream",
     "text": [
      "C:\\Users\\500225~2\\AppData\\Local\\Temp/ipykernel_1396/2368073926.py:1: SettingWithCopyWarning: \n",
      "A value is trying to be set on a copy of a slice from a DataFrame.\n",
      "Try using .loc[row_indexer,col_indexer] = value instead\n",
      "\n",
      "See the caveats in the documentation: https://pandas.pydata.org/pandas-docs/stable/user_guide/indexing.html#returning-a-view-versus-a-copy\n",
      "  cdfstock_1['working_capital'] = cdfstock_1['current_assets'] - cdfstock_1['current_liabilities']\n"
     ]
    }
   ],
   "source": [
    "cdfstock_1['working_capital'] = cdfstock_1['current_assets'] - cdfstock_1['current_liabilities']"
   ]
  },
  {
   "cell_type": "code",
   "execution_count": 25,
   "id": "303394e6",
   "metadata": {
    "execution": {
     "iopub.execute_input": "2023-06-01T15:27:09.877107Z",
     "iopub.status.busy": "2023-06-01T15:27:09.876653Z",
     "iopub.status.idle": "2023-06-01T15:27:09.906898Z",
     "shell.execute_reply": "2023-06-01T15:27:09.905360Z"
    },
    "executionInfo": {
     "elapsed": 18,
     "status": "ok",
     "timestamp": 1683903246645,
     "user": {
      "displayName": "James Sawyer",
      "userId": "16205900586708287718"
     },
     "user_tz": 300
    },
    "id": "kShPggDiHQP3",
    "outputId": "67fef464-1bce-4c1e-806c-5eb6204044a8",
    "papermill": {
     "duration": 0.060092,
     "end_time": "2023-06-01T15:27:09.910291",
     "exception": false,
     "start_time": "2023-06-01T15:27:09.850199",
     "status": "completed"
    },
    "tags": []
   },
   "outputs": [
    {
     "data": {
      "text/html": [
       "<div>\n",
       "<style scoped>\n",
       "    .dataframe tbody tr th:only-of-type {\n",
       "        vertical-align: middle;\n",
       "    }\n",
       "\n",
       "    .dataframe tbody tr th {\n",
       "        vertical-align: top;\n",
       "    }\n",
       "\n",
       "    .dataframe thead th {\n",
       "        text-align: right;\n",
       "    }\n",
       "</style>\n",
       "<table border=\"1\" class=\"dataframe\">\n",
       "  <thead>\n",
       "    <tr style=\"text-align: right;\">\n",
       "      <th></th>\n",
       "      <th>Date</th>\n",
       "      <th>Stock</th>\n",
       "      <th>liabilities</th>\n",
       "      <th>equity</th>\n",
       "      <th>total_assets</th>\n",
       "      <th>current_assets</th>\n",
       "      <th>current_liabilities</th>\n",
       "      <th>total_revenue</th>\n",
       "      <th>net_income</th>\n",
       "      <th>dividend</th>\n",
       "      <th>shares_outstanding</th>\n",
       "      <th>price</th>\n",
       "      <th>working_capital</th>\n",
       "    </tr>\n",
       "  </thead>\n",
       "  <tbody>\n",
       "    <tr>\n",
       "      <th>0</th>\n",
       "      <td>2006-07-31</td>\n",
       "      <td>Stock 1</td>\n",
       "      <td>625.898686</td>\n",
       "      <td>925.086518</td>\n",
       "      <td>1550.985204</td>\n",
       "      <td>675.789905</td>\n",
       "      <td>555.931329</td>\n",
       "      <td>548.488451</td>\n",
       "      <td>251.282553</td>\n",
       "      <td>58.541276</td>\n",
       "      <td>1040831</td>\n",
       "      <td>104.478956</td>\n",
       "      <td>119.858577</td>\n",
       "    </tr>\n",
       "    <tr>\n",
       "      <th>1</th>\n",
       "      <td>2006-08-31</td>\n",
       "      <td>Stock 1</td>\n",
       "      <td>407.387467</td>\n",
       "      <td>903.249093</td>\n",
       "      <td>1310.636561</td>\n",
       "      <td>1023.110983</td>\n",
       "      <td>1195.810967</td>\n",
       "      <td>513.446432</td>\n",
       "      <td>207.576940</td>\n",
       "      <td>42.232672</td>\n",
       "      <td>1046649</td>\n",
       "      <td>104.478956</td>\n",
       "      <td>-172.699984</td>\n",
       "    </tr>\n",
       "    <tr>\n",
       "      <th>2</th>\n",
       "      <td>2006-09-29</td>\n",
       "      <td>Stock 1</td>\n",
       "      <td>464.069891</td>\n",
       "      <td>602.668832</td>\n",
       "      <td>1066.738722</td>\n",
       "      <td>709.711673</td>\n",
       "      <td>598.719338</td>\n",
       "      <td>503.519871</td>\n",
       "      <td>133.719700</td>\n",
       "      <td>28.835722</td>\n",
       "      <td>1094158</td>\n",
       "      <td>104.478956</td>\n",
       "      <td>110.992335</td>\n",
       "    </tr>\n",
       "    <tr>\n",
       "      <th>3</th>\n",
       "      <td>2006-10-31</td>\n",
       "      <td>Stock 1</td>\n",
       "      <td>855.854937</td>\n",
       "      <td>391.375369</td>\n",
       "      <td>1247.230306</td>\n",
       "      <td>649.979564</td>\n",
       "      <td>733.594339</td>\n",
       "      <td>596.006397</td>\n",
       "      <td>-76.881818</td>\n",
       "      <td>0.000000</td>\n",
       "      <td>1018574</td>\n",
       "      <td>104.478956</td>\n",
       "      <td>-83.614775</td>\n",
       "    </tr>\n",
       "    <tr>\n",
       "      <th>4</th>\n",
       "      <td>2006-11-30</td>\n",
       "      <td>Stock 1</td>\n",
       "      <td>453.954969</td>\n",
       "      <td>956.490566</td>\n",
       "      <td>1410.445534</td>\n",
       "      <td>1083.426267</td>\n",
       "      <td>1152.274711</td>\n",
       "      <td>965.939247</td>\n",
       "      <td>-303.231573</td>\n",
       "      <td>0.000000</td>\n",
       "      <td>1036293</td>\n",
       "      <td>104.478956</td>\n",
       "      <td>-68.848444</td>\n",
       "    </tr>\n",
       "  </tbody>\n",
       "</table>\n",
       "</div>"
      ],
      "text/plain": [
       "         Date    Stock  liabilities      equity  total_assets  current_assets  \\\n",
       "0  2006-07-31  Stock 1   625.898686  925.086518   1550.985204      675.789905   \n",
       "1  2006-08-31  Stock 1   407.387467  903.249093   1310.636561     1023.110983   \n",
       "2  2006-09-29  Stock 1   464.069891  602.668832   1066.738722      709.711673   \n",
       "3  2006-10-31  Stock 1   855.854937  391.375369   1247.230306      649.979564   \n",
       "4  2006-11-30  Stock 1   453.954969  956.490566   1410.445534     1083.426267   \n",
       "\n",
       "   current_liabilities  total_revenue  net_income   dividend  \\\n",
       "0           555.931329     548.488451  251.282553  58.541276   \n",
       "1          1195.810967     513.446432  207.576940  42.232672   \n",
       "2           598.719338     503.519871  133.719700  28.835722   \n",
       "3           733.594339     596.006397  -76.881818   0.000000   \n",
       "4          1152.274711     965.939247 -303.231573   0.000000   \n",
       "\n",
       "   shares_outstanding       price  working_capital  \n",
       "0             1040831  104.478956       119.858577  \n",
       "1             1046649  104.478956      -172.699984  \n",
       "2             1094158  104.478956       110.992335  \n",
       "3             1018574  104.478956       -83.614775  \n",
       "4             1036293  104.478956       -68.848444  "
      ]
     },
     "execution_count": 25,
     "metadata": {},
     "output_type": "execute_result"
    }
   ],
   "source": [
    "cdfstock_1.head()"
   ]
  },
  {
   "cell_type": "code",
   "execution_count": 26,
   "id": "509d3c01",
   "metadata": {
    "execution": {
     "iopub.execute_input": "2023-06-01T15:27:09.961656Z",
     "iopub.status.busy": "2023-06-01T15:27:09.961184Z",
     "iopub.status.idle": "2023-06-01T15:27:10.004027Z",
     "shell.execute_reply": "2023-06-01T15:27:10.002641Z"
    },
    "executionInfo": {
     "elapsed": 16,
     "status": "ok",
     "timestamp": 1683903246645,
     "user": {
      "displayName": "James Sawyer",
      "userId": "16205900586708287718"
     },
     "user_tz": 300
    },
    "id": "Vpj_KWoUbIPT",
    "outputId": "ab0402c5-90d5-4639-c5e3-3b3c8fa82dda",
    "papermill": {
     "duration": 0.071695,
     "end_time": "2023-06-01T15:27:10.007393",
     "exception": false,
     "start_time": "2023-06-01T15:27:09.935698",
     "status": "completed"
    },
    "tags": []
   },
   "outputs": [
    {
     "name": "stderr",
     "output_type": "stream",
     "text": [
      "C:\\Users\\500225~2\\AppData\\Local\\Temp/ipykernel_1396/3920995155.py:6: FutureWarning: In a future version of pandas all arguments of DataFrame.drop except for the argument 'labels' will be keyword-only\n",
      "  X = cdfstock_1.drop(['price','Stock','Date','current_assets','current_liabilities'], 1)\n"
     ]
    },
    {
     "data": {
      "text/plain": [
       "LinearRegression()"
      ]
     },
     "execution_count": 26,
     "metadata": {},
     "output_type": "execute_result"
    }
   ],
   "source": [
    "# OLS attempt num. 1\n",
    "\n",
    "# `Y` is the target variable\n",
    "Y = cdfstock_1['price']\n",
    "# `X` is the feature set which includes the financial ratios that we created from the data\n",
    "X = cdfstock_1.drop(['price','Stock','Date','current_assets','current_liabilities'], 1)\n",
    "\n",
    "lrm = linear_model.LinearRegression()\n",
    "\n",
    "# Fit method estimates the coefficients using OLS\n",
    "lrm.fit(X, Y)"
   ]
  },
  {
   "cell_type": "code",
   "execution_count": 27,
   "id": "369e6da9",
   "metadata": {
    "execution": {
     "iopub.execute_input": "2023-06-01T15:27:10.059702Z",
     "iopub.status.busy": "2023-06-01T15:27:10.059236Z",
     "iopub.status.idle": "2023-06-01T15:27:10.102917Z",
     "shell.execute_reply": "2023-06-01T15:27:10.101348Z"
    },
    "executionInfo": {
     "elapsed": 14,
     "status": "ok",
     "timestamp": 1683903246646,
     "user": {
      "displayName": "James Sawyer",
      "userId": "16205900586708287718"
     },
     "user_tz": 300
    },
    "id": "bZy1cU0rbaPC",
    "outputId": "af001e37-1a90-4b39-eb72-98766a00e474",
    "papermill": {
     "duration": 0.073657,
     "end_time": "2023-06-01T15:27:10.106267",
     "exception": false,
     "start_time": "2023-06-01T15:27:10.032610",
     "status": "completed"
    },
    "tags": []
   },
   "outputs": [
    {
     "name": "stderr",
     "output_type": "stream",
     "text": [
      "C:\\ProgramData\\Anaconda3\\lib\\site-packages\\statsmodels\\tsa\\tsatools.py:142: FutureWarning: In a future version of pandas all arguments of concat except for the argument 'objs' will be keyword-only\n",
      "  x = pd.concat(x[::order], 1)\n"
     ]
    },
    {
     "data": {
      "text/html": [
       "<table class=\"simpletable\">\n",
       "<caption>OLS Regression Results</caption>\n",
       "<tr>\n",
       "  <th>Dep. Variable:</th>          <td>price</td>      <th>  R-squared:         </th> <td>   0.049</td>\n",
       "</tr>\n",
       "<tr>\n",
       "  <th>Model:</th>                   <td>OLS</td>       <th>  Adj. R-squared:    </th> <td>   0.001</td>\n",
       "</tr>\n",
       "<tr>\n",
       "  <th>Method:</th>             <td>Least Squares</td>  <th>  F-statistic:       </th> <td>   1.027</td>\n",
       "</tr>\n",
       "<tr>\n",
       "  <th>Date:</th>             <td>Fri, 07 Jun 2024</td> <th>  Prob (F-statistic):</th>  <td> 0.415</td> \n",
       "</tr>\n",
       "<tr>\n",
       "  <th>Time:</th>                 <td>13:56:04</td>     <th>  Log-Likelihood:    </th> <td> -505.79</td>\n",
       "</tr>\n",
       "<tr>\n",
       "  <th>No. Observations:</th>      <td>   149</td>      <th>  AIC:               </th> <td>   1028.</td>\n",
       "</tr>\n",
       "<tr>\n",
       "  <th>Df Residuals:</th>          <td>   141</td>      <th>  BIC:               </th> <td>   1052.</td>\n",
       "</tr>\n",
       "<tr>\n",
       "  <th>Df Model:</th>              <td>     7</td>      <th>                     </th>     <td> </td>   \n",
       "</tr>\n",
       "<tr>\n",
       "  <th>Covariance Type:</th>      <td>nonrobust</td>    <th>                     </th>     <td> </td>   \n",
       "</tr>\n",
       "</table>\n",
       "<table class=\"simpletable\">\n",
       "<tr>\n",
       "           <td></td>             <th>coef</th>     <th>std err</th>      <th>t</th>      <th>P>|t|</th>  <th>[0.025</th>    <th>0.975]</th>  \n",
       "</tr>\n",
       "<tr>\n",
       "  <th>const</th>              <td>  133.6949</td> <td>   23.348</td> <td>    5.726</td> <td> 0.000</td> <td>   87.537</td> <td>  179.853</td>\n",
       "</tr>\n",
       "<tr>\n",
       "  <th>liabilities</th>        <td>   -0.0014</td> <td>    0.002</td> <td>   -0.814</td> <td> 0.417</td> <td>   -0.005</td> <td>    0.002</td>\n",
       "</tr>\n",
       "<tr>\n",
       "  <th>equity</th>             <td>    0.0015</td> <td>    0.002</td> <td>    0.932</td> <td> 0.353</td> <td>   -0.002</td> <td>    0.005</td>\n",
       "</tr>\n",
       "<tr>\n",
       "  <th>total_assets</th>       <td>    0.0001</td> <td>    0.001</td> <td>    0.129</td> <td> 0.897</td> <td>   -0.002</td> <td>    0.002</td>\n",
       "</tr>\n",
       "<tr>\n",
       "  <th>total_revenue</th>      <td>  6.04e-05</td> <td>    0.003</td> <td>    0.023</td> <td> 0.982</td> <td>   -0.005</td> <td>    0.005</td>\n",
       "</tr>\n",
       "<tr>\n",
       "  <th>net_income</th>         <td>   -0.0094</td> <td>    0.009</td> <td>   -1.016</td> <td> 0.311</td> <td>   -0.028</td> <td>    0.009</td>\n",
       "</tr>\n",
       "<tr>\n",
       "  <th>dividend</th>           <td>   -0.0076</td> <td>    0.072</td> <td>   -0.105</td> <td> 0.916</td> <td>   -0.151</td> <td>    0.136</td>\n",
       "</tr>\n",
       "<tr>\n",
       "  <th>shares_outstanding</th> <td>-1.465e-05</td> <td> 2.22e-05</td> <td>   -0.661</td> <td> 0.510</td> <td>-5.85e-05</td> <td> 2.92e-05</td>\n",
       "</tr>\n",
       "<tr>\n",
       "  <th>working_capital</th>    <td>    0.0021</td> <td>    0.006</td> <td>    0.332</td> <td> 0.741</td> <td>   -0.011</td> <td>    0.015</td>\n",
       "</tr>\n",
       "</table>\n",
       "<table class=\"simpletable\">\n",
       "<tr>\n",
       "  <th>Omnibus:</th>       <td>26.191</td> <th>  Durbin-Watson:     </th> <td>   0.081</td>\n",
       "</tr>\n",
       "<tr>\n",
       "  <th>Prob(Omnibus):</th> <td> 0.000</td> <th>  Jarque-Bera (JB):  </th> <td>  15.320</td>\n",
       "</tr>\n",
       "<tr>\n",
       "  <th>Skew:</th>          <td>-0.635</td> <th>  Prob(JB):          </th> <td>0.000471</td>\n",
       "</tr>\n",
       "<tr>\n",
       "  <th>Kurtosis:</th>      <td> 2.077</td> <th>  Cond. No.          </th> <td>6.42e+18</td>\n",
       "</tr>\n",
       "</table><br/><br/>Notes:<br/>[1] Standard Errors assume that the covariance matrix of the errors is correctly specified.<br/>[2] The smallest eigenvalue is 3.99e-24. This might indicate that there are<br/>strong multicollinearity problems or that the design matrix is singular."
      ],
      "text/plain": [
       "<class 'statsmodels.iolib.summary.Summary'>\n",
       "\"\"\"\n",
       "                            OLS Regression Results                            \n",
       "==============================================================================\n",
       "Dep. Variable:                  price   R-squared:                       0.049\n",
       "Model:                            OLS   Adj. R-squared:                  0.001\n",
       "Method:                 Least Squares   F-statistic:                     1.027\n",
       "Date:                Fri, 07 Jun 2024   Prob (F-statistic):              0.415\n",
       "Time:                        13:56:04   Log-Likelihood:                -505.79\n",
       "No. Observations:                 149   AIC:                             1028.\n",
       "Df Residuals:                     141   BIC:                             1052.\n",
       "Df Model:                           7                                         \n",
       "Covariance Type:            nonrobust                                         \n",
       "======================================================================================\n",
       "                         coef    std err          t      P>|t|      [0.025      0.975]\n",
       "--------------------------------------------------------------------------------------\n",
       "const                133.6949     23.348      5.726      0.000      87.537     179.853\n",
       "liabilities           -0.0014      0.002     -0.814      0.417      -0.005       0.002\n",
       "equity                 0.0015      0.002      0.932      0.353      -0.002       0.005\n",
       "total_assets           0.0001      0.001      0.129      0.897      -0.002       0.002\n",
       "total_revenue        6.04e-05      0.003      0.023      0.982      -0.005       0.005\n",
       "net_income            -0.0094      0.009     -1.016      0.311      -0.028       0.009\n",
       "dividend              -0.0076      0.072     -0.105      0.916      -0.151       0.136\n",
       "shares_outstanding -1.465e-05   2.22e-05     -0.661      0.510   -5.85e-05    2.92e-05\n",
       "working_capital        0.0021      0.006      0.332      0.741      -0.011       0.015\n",
       "==============================================================================\n",
       "Omnibus:                       26.191   Durbin-Watson:                   0.081\n",
       "Prob(Omnibus):                  0.000   Jarque-Bera (JB):               15.320\n",
       "Skew:                          -0.635   Prob(JB):                     0.000471\n",
       "Kurtosis:                       2.077   Cond. No.                     6.42e+18\n",
       "==============================================================================\n",
       "\n",
       "Notes:\n",
       "[1] Standard Errors assume that the covariance matrix of the errors is correctly specified.\n",
       "[2] The smallest eigenvalue is 3.99e-24. This might indicate that there are\n",
       "strong multicollinearity problems or that the design matrix is singular.\n",
       "\"\"\""
      ]
     },
     "execution_count": 27,
     "metadata": {},
     "output_type": "execute_result"
    }
   ],
   "source": [
    "X = sm.add_constant(X)\n",
    "\n",
    "results = sm.OLS(Y, X).fit()\n",
    "\n",
    "results.summary()"
   ]
  },
  {
   "cell_type": "code",
   "execution_count": 28,
   "id": "03f5e6b6",
   "metadata": {
    "execution": {
     "iopub.execute_input": "2023-06-01T15:27:10.160684Z",
     "iopub.status.busy": "2023-06-01T15:27:10.160127Z",
     "iopub.status.idle": "2023-06-01T15:27:10.181056Z",
     "shell.execute_reply": "2023-06-01T15:27:10.179479Z"
    },
    "executionInfo": {
     "elapsed": 291,
     "status": "ok",
     "timestamp": 1683903329346,
     "user": {
      "displayName": "James Sawyer",
      "userId": "16205900586708287718"
     },
     "user_tz": 300
    },
    "id": "FHWtM6TcdM7a",
    "outputId": "400a75be-9530-48b7-afc2-7566f9160b67",
    "papermill": {
     "duration": 0.052243,
     "end_time": "2023-06-01T15:27:10.183947",
     "exception": false,
     "start_time": "2023-06-01T15:27:10.131704",
     "status": "completed"
    },
    "tags": []
   },
   "outputs": [
    {
     "name": "stderr",
     "output_type": "stream",
     "text": [
      "C:\\Users\\500225~2\\AppData\\Local\\Temp/ipykernel_1396/1020041314.py:4: FutureWarning: In a future version of pandas all arguments of DataFrame.drop except for the argument 'labels' will be keyword-only\n",
      "  X = cdfstock_1.drop(['price','Stock','Date','current_assets','current_liabilities'], 1).sample(frac=0.3, replace=True)\n"
     ]
    },
    {
     "data": {
      "text/plain": [
       "SVR()"
      ]
     },
     "execution_count": 28,
     "metadata": {},
     "output_type": "execute_result"
    }
   ],
   "source": [
    "# svm\n",
    "\n",
    "svr = SVR()\n",
    "X = cdfstock_1.drop(['price','Stock','Date','current_assets','current_liabilities'], 1).sample(frac=0.3, replace=True)\n",
    "Y = cdfstock_1.price.sample(frac=0.3, replace=True)\n",
    "svr.fit(X,Y)\n"
   ]
  },
  {
   "cell_type": "code",
   "execution_count": 29,
   "id": "9ff7cb0f",
   "metadata": {
    "execution": {
     "iopub.execute_input": "2023-06-01T15:27:10.237790Z",
     "iopub.status.busy": "2023-06-01T15:27:10.237284Z",
     "iopub.status.idle": "2023-06-01T15:27:10.248665Z",
     "shell.execute_reply": "2023-06-01T15:27:10.247383Z"
    },
    "executionInfo": {
     "elapsed": 3,
     "status": "ok",
     "timestamp": 1683903330542,
     "user": {
      "displayName": "James Sawyer",
      "userId": "16205900586708287718"
     },
     "user_tz": 300
    },
    "id": "uOoANV9OcIqB",
    "outputId": "4f031fd3-d828-4267-c280-c5f1aad545f9",
    "papermill": {
     "duration": 0.041592,
     "end_time": "2023-06-01T15:27:10.251668",
     "exception": false,
     "start_time": "2023-06-01T15:27:10.210076",
     "status": "completed"
    },
    "tags": []
   },
   "outputs": [
    {
     "data": {
      "text/plain": [
       "-0.15137375204709924"
      ]
     },
     "execution_count": 29,
     "metadata": {},
     "output_type": "execute_result"
    }
   ],
   "source": [
    "svr.score(X, Y)\n"
   ]
  },
  {
   "cell_type": "code",
   "execution_count": 30,
   "id": "1cb31654",
   "metadata": {
    "execution": {
     "iopub.execute_input": "2023-06-01T15:27:10.306749Z",
     "iopub.status.busy": "2023-06-01T15:27:10.306264Z",
     "iopub.status.idle": "2023-06-01T15:27:10.311490Z",
     "shell.execute_reply": "2023-06-01T15:27:10.310316Z"
    },
    "id": "TXZejfUBfmRk",
    "papermill": {
     "duration": 0.035888,
     "end_time": "2023-06-01T15:27:10.313919",
     "exception": false,
     "start_time": "2023-06-01T15:27:10.278031",
     "status": "completed"
    },
    "tags": []
   },
   "outputs": [],
   "source": [
    "# both those models prove to not work effectively at this stage. I am going to normalize and transform the data to see what kind of impact that will have. "
   ]
  },
  {
   "cell_type": "code",
   "execution_count": 31,
   "id": "c65ccdd7",
   "metadata": {
    "execution": {
     "iopub.execute_input": "2023-06-01T15:27:10.369961Z",
     "iopub.status.busy": "2023-06-01T15:27:10.369432Z",
     "iopub.status.idle": "2023-06-01T15:27:10.388394Z",
     "shell.execute_reply": "2023-06-01T15:27:10.386307Z"
    },
    "executionInfo": {
     "elapsed": 10,
     "status": "ok",
     "timestamp": 1683903247732,
     "user": {
      "displayName": "James Sawyer",
      "userId": "16205900586708287718"
     },
     "user_tz": 300
    },
    "id": "9Lk00voagQ85",
    "outputId": "f14b6e0b-dc24-4c62-de9c-85175de6b2e5",
    "papermill": {
     "duration": 0.050055,
     "end_time": "2023-06-01T15:27:10.391470",
     "exception": false,
     "start_time": "2023-06-01T15:27:10.341415",
     "status": "completed"
    },
    "tags": []
   },
   "outputs": [
    {
     "name": "stdout",
     "output_type": "stream",
     "text": [
      "<class 'pandas.core.frame.DataFrame'>\n",
      "Int64Index: 149 entries, 0 to 148\n",
      "Data columns (total 13 columns):\n",
      " #   Column               Non-Null Count  Dtype  \n",
      "---  ------               --------------  -----  \n",
      " 0   Date                 149 non-null    object \n",
      " 1   Stock                149 non-null    object \n",
      " 2   liabilities          149 non-null    float64\n",
      " 3   equity               149 non-null    float64\n",
      " 4   total_assets         149 non-null    float64\n",
      " 5   current_assets       149 non-null    float64\n",
      " 6   current_liabilities  149 non-null    float64\n",
      " 7   total_revenue        149 non-null    float64\n",
      " 8   net_income           149 non-null    float64\n",
      " 9   dividend             149 non-null    float64\n",
      " 10  shares_outstanding   149 non-null    int64  \n",
      " 11  price                149 non-null    float64\n",
      " 12  working_capital      149 non-null    float64\n",
      "dtypes: float64(10), int64(1), object(2)\n",
      "memory usage: 16.3+ KB\n"
     ]
    }
   ],
   "source": [
    "cdfstock_1.info()"
   ]
  },
  {
   "cell_type": "code",
   "execution_count": 32,
   "id": "6dbd6440",
   "metadata": {
    "execution": {
     "iopub.execute_input": "2023-06-01T15:27:10.446139Z",
     "iopub.status.busy": "2023-06-01T15:27:10.445627Z",
     "iopub.status.idle": "2023-06-01T15:27:10.740511Z",
     "shell.execute_reply": "2023-06-01T15:27:10.738419Z"
    },
    "id": "XlbUx-3Df3Ai",
    "papermill": {
     "duration": 0.325868,
     "end_time": "2023-06-01T15:27:10.743513",
     "exception": false,
     "start_time": "2023-06-01T15:27:10.417645",
     "status": "completed"
    },
    "scrolled": true,
    "tags": []
   },
   "outputs": [
    {
     "name": "stderr",
     "output_type": "stream",
     "text": [
      "C:\\Users\\500225~2\\AppData\\Local\\Temp/ipykernel_1396/3782673076.py:3: SettingWithCopyWarning: \n",
      "A value is trying to be set on a copy of a slice from a DataFrame.\n",
      "Try using .loc[row_indexer,col_indexer] = value instead\n",
      "\n",
      "See the caveats in the documentation: https://pandas.pydata.org/pandas-docs/stable/user_guide/indexing.html#returning-a-view-versus-a-copy\n",
      "  cdfstock_1[\"liabilites\"] = normalize(np.array(cdfstock_1[\"liabilities\"]).reshape(1,-1)).reshape(-1,1)\n",
      "C:\\Users\\500225~2\\AppData\\Local\\Temp/ipykernel_1396/3782673076.py:4: SettingWithCopyWarning: \n",
      "A value is trying to be set on a copy of a slice from a DataFrame.\n",
      "Try using .loc[row_indexer,col_indexer] = value instead\n",
      "\n",
      "See the caveats in the documentation: https://pandas.pydata.org/pandas-docs/stable/user_guide/indexing.html#returning-a-view-versus-a-copy\n",
      "  cdfstock_1[\"equity\"] = normalize(np.array(cdfstock_1[\"equity\"]).reshape(1,-1)).reshape(-1,1)\n",
      "C:\\Users\\500225~2\\AppData\\Local\\Temp/ipykernel_1396/3782673076.py:5: SettingWithCopyWarning: \n",
      "A value is trying to be set on a copy of a slice from a DataFrame.\n",
      "Try using .loc[row_indexer,col_indexer] = value instead\n",
      "\n",
      "See the caveats in the documentation: https://pandas.pydata.org/pandas-docs/stable/user_guide/indexing.html#returning-a-view-versus-a-copy\n",
      "  cdfstock_1[\"total_assets\"] = normalize(np.array(cdfstock_1[\"total_assets\"]).reshape(1,-1)).reshape(-1,1)\n",
      "C:\\Users\\500225~2\\AppData\\Local\\Temp/ipykernel_1396/3782673076.py:6: SettingWithCopyWarning: \n",
      "A value is trying to be set on a copy of a slice from a DataFrame.\n",
      "Try using .loc[row_indexer,col_indexer] = value instead\n",
      "\n",
      "See the caveats in the documentation: https://pandas.pydata.org/pandas-docs/stable/user_guide/indexing.html#returning-a-view-versus-a-copy\n",
      "  cdfstock_1[\"current_assets\"] = normalize(np.array(cdfstock_1[\"current_assets\"]).reshape(1,-1)).reshape(-1,1)\n",
      "C:\\Users\\500225~2\\AppData\\Local\\Temp/ipykernel_1396/3782673076.py:7: SettingWithCopyWarning: \n",
      "A value is trying to be set on a copy of a slice from a DataFrame.\n",
      "Try using .loc[row_indexer,col_indexer] = value instead\n",
      "\n",
      "See the caveats in the documentation: https://pandas.pydata.org/pandas-docs/stable/user_guide/indexing.html#returning-a-view-versus-a-copy\n",
      "  cdfstock_1[\"current_liabilities\"] = normalize(np.array(cdfstock_1[\"current_liabilities\"]).reshape(1,-1)).reshape(-1,1)\n",
      "C:\\Users\\500225~2\\AppData\\Local\\Temp/ipykernel_1396/3782673076.py:8: SettingWithCopyWarning: \n",
      "A value is trying to be set on a copy of a slice from a DataFrame.\n",
      "Try using .loc[row_indexer,col_indexer] = value instead\n",
      "\n",
      "See the caveats in the documentation: https://pandas.pydata.org/pandas-docs/stable/user_guide/indexing.html#returning-a-view-versus-a-copy\n",
      "  cdfstock_1[\"total_revenue\"] = normalize(np.array(cdfstock_1[\"total_revenue\"]).reshape(1,-1)).reshape(-1,1)\n",
      "C:\\Users\\500225~2\\AppData\\Local\\Temp/ipykernel_1396/3782673076.py:9: SettingWithCopyWarning: \n",
      "A value is trying to be set on a copy of a slice from a DataFrame.\n",
      "Try using .loc[row_indexer,col_indexer] = value instead\n",
      "\n",
      "See the caveats in the documentation: https://pandas.pydata.org/pandas-docs/stable/user_guide/indexing.html#returning-a-view-versus-a-copy\n",
      "  cdfstock_1[\"net_income\"] = normalize(np.array(cdfstock_1[\"net_income\"]).reshape(1,-1)).reshape(-1,1)\n",
      "C:\\Users\\500225~2\\AppData\\Local\\Temp/ipykernel_1396/3782673076.py:10: SettingWithCopyWarning: \n",
      "A value is trying to be set on a copy of a slice from a DataFrame.\n",
      "Try using .loc[row_indexer,col_indexer] = value instead\n",
      "\n",
      "See the caveats in the documentation: https://pandas.pydata.org/pandas-docs/stable/user_guide/indexing.html#returning-a-view-versus-a-copy\n",
      "  cdfstock_1[\"dividend\"] = normalize(np.array(cdfstock_1[\"dividend\"]).reshape(1,-1)).reshape(-1,1)\n",
      "C:\\Users\\500225~2\\AppData\\Local\\Temp/ipykernel_1396/3782673076.py:11: SettingWithCopyWarning: \n",
      "A value is trying to be set on a copy of a slice from a DataFrame.\n",
      "Try using .loc[row_indexer,col_indexer] = value instead\n",
      "\n",
      "See the caveats in the documentation: https://pandas.pydata.org/pandas-docs/stable/user_guide/indexing.html#returning-a-view-versus-a-copy\n",
      "  cdfstock_1[\"shares_outstanding\"] = normalize(np.array(cdfstock_1[\"shares_outstanding\"]).reshape(1,-1)).reshape(-1,1)\n",
      "C:\\Users\\500225~2\\AppData\\Local\\Temp/ipykernel_1396/3782673076.py:12: SettingWithCopyWarning: \n",
      "A value is trying to be set on a copy of a slice from a DataFrame.\n",
      "Try using .loc[row_indexer,col_indexer] = value instead\n",
      "\n",
      "See the caveats in the documentation: https://pandas.pydata.org/pandas-docs/stable/user_guide/indexing.html#returning-a-view-versus-a-copy\n",
      "  cdfstock_1[\"price\"] = normalize(np.array(cdfstock_1[\"price\"]).reshape(1,-1)).reshape(-1,1)\n",
      "C:\\Users\\500225~2\\AppData\\Local\\Temp/ipykernel_1396/3782673076.py:13: SettingWithCopyWarning: \n",
      "A value is trying to be set on a copy of a slice from a DataFrame.\n",
      "Try using .loc[row_indexer,col_indexer] = value instead\n",
      "\n",
      "See the caveats in the documentation: https://pandas.pydata.org/pandas-docs/stable/user_guide/indexing.html#returning-a-view-versus-a-copy\n",
      "  cdfstock_1[\"working_capital\"] = normalize(np.array(cdfstock_1[\"working_capital\"]).reshape(1,-1)).reshape(-1,1)\n"
     ]
    }
   ],
   "source": [
    "# normalizing\n",
    "\n",
    "cdfstock_1[\"liabilites\"] = normalize(np.array(cdfstock_1[\"liabilities\"]).reshape(1,-1)).reshape(-1,1)\n",
    "cdfstock_1[\"equity\"] = normalize(np.array(cdfstock_1[\"equity\"]).reshape(1,-1)).reshape(-1,1)\n",
    "cdfstock_1[\"total_assets\"] = normalize(np.array(cdfstock_1[\"total_assets\"]).reshape(1,-1)).reshape(-1,1)\n",
    "cdfstock_1[\"current_assets\"] = normalize(np.array(cdfstock_1[\"current_assets\"]).reshape(1,-1)).reshape(-1,1)\n",
    "cdfstock_1[\"current_liabilities\"] = normalize(np.array(cdfstock_1[\"current_liabilities\"]).reshape(1,-1)).reshape(-1,1)\n",
    "cdfstock_1[\"total_revenue\"] = normalize(np.array(cdfstock_1[\"total_revenue\"]).reshape(1,-1)).reshape(-1,1)\n",
    "cdfstock_1[\"net_income\"] = normalize(np.array(cdfstock_1[\"net_income\"]).reshape(1,-1)).reshape(-1,1)\n",
    "cdfstock_1[\"dividend\"] = normalize(np.array(cdfstock_1[\"dividend\"]).reshape(1,-1)).reshape(-1,1)\n",
    "cdfstock_1[\"shares_outstanding\"] = normalize(np.array(cdfstock_1[\"shares_outstanding\"]).reshape(1,-1)).reshape(-1,1)\n",
    "cdfstock_1[\"price\"] = normalize(np.array(cdfstock_1[\"price\"]).reshape(1,-1)).reshape(-1,1)\n",
    "cdfstock_1[\"working_capital\"] = normalize(np.array(cdfstock_1[\"working_capital\"]).reshape(1,-1)).reshape(-1,1)"
   ]
  },
  {
   "cell_type": "code",
   "execution_count": 33,
   "id": "15d7fd76",
   "metadata": {
    "execution": {
     "iopub.execute_input": "2023-06-01T15:27:10.801006Z",
     "iopub.status.busy": "2023-06-01T15:27:10.800528Z",
     "iopub.status.idle": "2023-06-01T15:27:10.823185Z",
     "shell.execute_reply": "2023-06-01T15:27:10.821968Z"
    },
    "id": "r9nC3nw4hCYK",
    "papermill": {
     "duration": 0.055238,
     "end_time": "2023-06-01T15:27:10.826314",
     "exception": false,
     "start_time": "2023-06-01T15:27:10.771076",
     "status": "completed"
    },
    "scrolled": true,
    "tags": []
   },
   "outputs": [
    {
     "name": "stderr",
     "output_type": "stream",
     "text": [
      "C:\\Users\\500225~2\\AppData\\Local\\Temp/ipykernel_1396/2693500894.py:3: SettingWithCopyWarning: \n",
      "A value is trying to be set on a copy of a slice from a DataFrame.\n",
      "Try using .loc[row_indexer,col_indexer] = value instead\n",
      "\n",
      "See the caveats in the documentation: https://pandas.pydata.org/pandas-docs/stable/user_guide/indexing.html#returning-a-view-versus-a-copy\n",
      "  cdfstock_1[\"liabilities\"] = scale(cdfstock_1[\"liabilities\"])\n",
      "C:\\Users\\500225~2\\AppData\\Local\\Temp/ipykernel_1396/2693500894.py:4: SettingWithCopyWarning: \n",
      "A value is trying to be set on a copy of a slice from a DataFrame.\n",
      "Try using .loc[row_indexer,col_indexer] = value instead\n",
      "\n",
      "See the caveats in the documentation: https://pandas.pydata.org/pandas-docs/stable/user_guide/indexing.html#returning-a-view-versus-a-copy\n",
      "  cdfstock_1[\"equity\"] = scale(cdfstock_1[\"equity\"])\n",
      "C:\\Users\\500225~2\\AppData\\Local\\Temp/ipykernel_1396/2693500894.py:5: SettingWithCopyWarning: \n",
      "A value is trying to be set on a copy of a slice from a DataFrame.\n",
      "Try using .loc[row_indexer,col_indexer] = value instead\n",
      "\n",
      "See the caveats in the documentation: https://pandas.pydata.org/pandas-docs/stable/user_guide/indexing.html#returning-a-view-versus-a-copy\n",
      "  cdfstock_1[\"total_assets\"] = scale(cdfstock_1[\"total_assets\"])\n",
      "C:\\Users\\500225~2\\AppData\\Local\\Temp/ipykernel_1396/2693500894.py:6: SettingWithCopyWarning: \n",
      "A value is trying to be set on a copy of a slice from a DataFrame.\n",
      "Try using .loc[row_indexer,col_indexer] = value instead\n",
      "\n",
      "See the caveats in the documentation: https://pandas.pydata.org/pandas-docs/stable/user_guide/indexing.html#returning-a-view-versus-a-copy\n",
      "  cdfstock_1[\"current_assets\"] = scale(cdfstock_1[\"current_assets\"])\n",
      "C:\\Users\\500225~2\\AppData\\Local\\Temp/ipykernel_1396/2693500894.py:7: SettingWithCopyWarning: \n",
      "A value is trying to be set on a copy of a slice from a DataFrame.\n",
      "Try using .loc[row_indexer,col_indexer] = value instead\n",
      "\n",
      "See the caveats in the documentation: https://pandas.pydata.org/pandas-docs/stable/user_guide/indexing.html#returning-a-view-versus-a-copy\n",
      "  cdfstock_1[\"current_liabilities\"] = scale(cdfstock_1[\"current_liabilities\"])\n",
      "C:\\Users\\500225~2\\AppData\\Local\\Temp/ipykernel_1396/2693500894.py:8: SettingWithCopyWarning: \n",
      "A value is trying to be set on a copy of a slice from a DataFrame.\n",
      "Try using .loc[row_indexer,col_indexer] = value instead\n",
      "\n",
      "See the caveats in the documentation: https://pandas.pydata.org/pandas-docs/stable/user_guide/indexing.html#returning-a-view-versus-a-copy\n",
      "  cdfstock_1[\"total_revenue\"] = scale(cdfstock_1[\"total_revenue\"])\n",
      "C:\\Users\\500225~2\\AppData\\Local\\Temp/ipykernel_1396/2693500894.py:9: SettingWithCopyWarning: \n",
      "A value is trying to be set on a copy of a slice from a DataFrame.\n",
      "Try using .loc[row_indexer,col_indexer] = value instead\n",
      "\n",
      "See the caveats in the documentation: https://pandas.pydata.org/pandas-docs/stable/user_guide/indexing.html#returning-a-view-versus-a-copy\n",
      "  cdfstock_1[\"net_income\"] = scale(cdfstock_1[\"net_income\"])\n",
      "C:\\Users\\500225~2\\AppData\\Local\\Temp/ipykernel_1396/2693500894.py:10: SettingWithCopyWarning: \n",
      "A value is trying to be set on a copy of a slice from a DataFrame.\n",
      "Try using .loc[row_indexer,col_indexer] = value instead\n",
      "\n",
      "See the caveats in the documentation: https://pandas.pydata.org/pandas-docs/stable/user_guide/indexing.html#returning-a-view-versus-a-copy\n",
      "  cdfstock_1[\"dividend\"] = scale(cdfstock_1[\"dividend\"])\n",
      "C:\\Users\\500225~2\\AppData\\Local\\Temp/ipykernel_1396/2693500894.py:11: SettingWithCopyWarning: \n",
      "A value is trying to be set on a copy of a slice from a DataFrame.\n",
      "Try using .loc[row_indexer,col_indexer] = value instead\n",
      "\n",
      "See the caveats in the documentation: https://pandas.pydata.org/pandas-docs/stable/user_guide/indexing.html#returning-a-view-versus-a-copy\n",
      "  cdfstock_1[\"shares_outstanding\"] = scale(cdfstock_1[\"shares_outstanding\"])\n",
      "C:\\Users\\500225~2\\AppData\\Local\\Temp/ipykernel_1396/2693500894.py:12: SettingWithCopyWarning: \n",
      "A value is trying to be set on a copy of a slice from a DataFrame.\n",
      "Try using .loc[row_indexer,col_indexer] = value instead\n",
      "\n",
      "See the caveats in the documentation: https://pandas.pydata.org/pandas-docs/stable/user_guide/indexing.html#returning-a-view-versus-a-copy\n",
      "  cdfstock_1[\"price\"] = scale(cdfstock_1[\"price\"])\n",
      "C:\\Users\\500225~2\\AppData\\Local\\Temp/ipykernel_1396/2693500894.py:13: SettingWithCopyWarning: \n",
      "A value is trying to be set on a copy of a slice from a DataFrame.\n",
      "Try using .loc[row_indexer,col_indexer] = value instead\n",
      "\n",
      "See the caveats in the documentation: https://pandas.pydata.org/pandas-docs/stable/user_guide/indexing.html#returning-a-view-versus-a-copy\n",
      "  cdfstock_1[\"working_capital\"] = scale(cdfstock_1[\"working_capital\"])\n"
     ]
    }
   ],
   "source": [
    "# standardizing\n",
    "\n",
    "cdfstock_1[\"liabilities\"] = scale(cdfstock_1[\"liabilities\"])\n",
    "cdfstock_1[\"equity\"] = scale(cdfstock_1[\"equity\"])\n",
    "cdfstock_1[\"total_assets\"] = scale(cdfstock_1[\"total_assets\"])\n",
    "cdfstock_1[\"current_assets\"] = scale(cdfstock_1[\"current_assets\"])\n",
    "cdfstock_1[\"current_liabilities\"] = scale(cdfstock_1[\"current_liabilities\"])\n",
    "cdfstock_1[\"total_revenue\"] = scale(cdfstock_1[\"total_revenue\"])\n",
    "cdfstock_1[\"net_income\"] = scale(cdfstock_1[\"net_income\"])\n",
    "cdfstock_1[\"dividend\"] = scale(cdfstock_1[\"dividend\"])\n",
    "cdfstock_1[\"shares_outstanding\"] = scale(cdfstock_1[\"shares_outstanding\"])\n",
    "cdfstock_1[\"price\"] = scale(cdfstock_1[\"price\"])\n",
    "cdfstock_1[\"working_capital\"] = scale(cdfstock_1[\"working_capital\"])"
   ]
  },
  {
   "cell_type": "code",
   "execution_count": 34,
   "id": "bd9b2be5",
   "metadata": {
    "execution": {
     "iopub.execute_input": "2023-06-01T15:27:10.880930Z",
     "iopub.status.busy": "2023-06-01T15:27:10.880404Z",
     "iopub.status.idle": "2023-06-01T15:27:11.246148Z",
     "shell.execute_reply": "2023-06-01T15:27:11.244506Z"
    },
    "executionInfo": {
     "elapsed": 1616,
     "status": "ok",
     "timestamp": 1683903249346,
     "user": {
      "displayName": "James Sawyer",
      "userId": "16205900586708287718"
     },
     "user_tz": 300
    },
    "id": "C4HoLqYkq8i5",
    "outputId": "831b7590-8a47-48fa-cd46-36321addee49",
    "papermill": {
     "duration": 0.396284,
     "end_time": "2023-06-01T15:27:11.248941",
     "exception": false,
     "start_time": "2023-06-01T15:27:10.852657",
     "status": "completed"
    },
    "tags": []
   },
   "outputs": [
    {
     "data": {
      "image/png": "[encoded data removed]",
      "text/plain": [
       "<Figure size 1080x576 with 1 Axes>"
      ]
     },
     "metadata": {
      "needs_background": "light"
     },
     "output_type": "display_data"
    }
   ],
   "source": [
    "# prices over time standardized / normalized\n",
    "\n",
    "cdfstock_1.plot(y='price', subplots=True, figsize=(15, 8), fontsize=12)\n",
    "plt.title('Price over Time (standardized)', fontsize=16)\n",
    "plt.xlabel('Date', fontsize=12)\n",
    "plt.ylabel('Price', fontsize=12)\n",
    "plt.show()"
   ]
  },
  {
   "cell_type": "code",
   "execution_count": 35,
   "id": "2552a742",
   "metadata": {
    "execution": {
     "iopub.execute_input": "2023-06-01T15:27:11.306411Z",
     "iopub.status.busy": "2023-06-01T15:27:11.305930Z",
     "iopub.status.idle": "2023-06-01T15:27:11.321550Z",
     "shell.execute_reply": "2023-06-01T15:27:11.320700Z"
    },
    "executionInfo": {
     "elapsed": 19,
     "status": "ok",
     "timestamp": 1683903249346,
     "user": {
      "displayName": "James Sawyer",
      "userId": "16205900586708287718"
     },
     "user_tz": 300
    },
    "id": "-jmGX2aOh0la",
    "outputId": "c1af3be1-4bd3-4f51-cbf0-573ccc317866",
    "papermill": {
     "duration": 0.046397,
     "end_time": "2023-06-01T15:27:11.323571",
     "exception": false,
     "start_time": "2023-06-01T15:27:11.277174",
     "status": "completed"
    },
    "tags": []
   },
   "outputs": [
    {
     "name": "stderr",
     "output_type": "stream",
     "text": [
      "C:\\Users\\500225~2\\AppData\\Local\\Temp/ipykernel_1396/5604572.py:6: FutureWarning: In a future version of pandas all arguments of DataFrame.drop except for the argument 'labels' will be keyword-only\n",
      "  X = cdfstock_1.drop(['price','Stock','Date','current_assets','current_liabilities'], 1)\n"
     ]
    },
    {
     "data": {
      "text/plain": [
       "LinearRegression()"
      ]
     },
     "execution_count": 35,
     "metadata": {},
     "output_type": "execute_result"
    }
   ],
   "source": [
    "# OLS attempt num. 2\n",
    "\n",
    "# `Y` is the target variable\n",
    "Y = cdfstock_1['price']\n",
    "# `X` is the feature set which includes the financial ratios that we created from the data\n",
    "X = cdfstock_1.drop(['price','Stock','Date','current_assets','current_liabilities'], 1)\n",
    "\n",
    "lrm = linear_model.LinearRegression()\n",
    "\n",
    "# Fit method estimates the coefficients using OLS\n",
    "lrm.fit(X, Y)"
   ]
  },
  {
   "cell_type": "code",
   "execution_count": 36,
   "id": "874c23a1",
   "metadata": {
    "execution": {
     "iopub.execute_input": "2023-06-01T15:27:11.382346Z",
     "iopub.status.busy": "2023-06-01T15:27:11.381912Z",
     "iopub.status.idle": "2023-06-01T15:27:11.416100Z",
     "shell.execute_reply": "2023-06-01T15:27:11.414732Z"
    },
    "executionInfo": {
     "elapsed": 17,
     "status": "ok",
     "timestamp": 1683903249346,
     "user": {
      "displayName": "James Sawyer",
      "userId": "16205900586708287718"
     },
     "user_tz": 300
    },
    "id": "1EaOotrGiCWy",
    "outputId": "4b5b11f1-3d0a-461b-da56-aa45e1d7ba71",
    "papermill": {
     "duration": 0.067164,
     "end_time": "2023-06-01T15:27:11.418856",
     "exception": false,
     "start_time": "2023-06-01T15:27:11.351692",
     "status": "completed"
    },
    "tags": []
   },
   "outputs": [
    {
     "name": "stderr",
     "output_type": "stream",
     "text": [
      "C:\\ProgramData\\Anaconda3\\lib\\site-packages\\statsmodels\\tsa\\tsatools.py:142: FutureWarning: In a future version of pandas all arguments of concat except for the argument 'objs' will be keyword-only\n",
      "  x = pd.concat(x[::order], 1)\n"
     ]
    },
    {
     "data": {
      "text/html": [
       "<table class=\"simpletable\">\n",
       "<caption>OLS Regression Results</caption>\n",
       "<tr>\n",
       "  <th>Dep. Variable:</th>          <td>price</td>      <th>  R-squared:         </th> <td>   0.049</td>\n",
       "</tr>\n",
       "<tr>\n",
       "  <th>Model:</th>                   <td>OLS</td>       <th>  Adj. R-squared:    </th> <td>   0.001</td>\n",
       "</tr>\n",
       "<tr>\n",
       "  <th>Method:</th>             <td>Least Squares</td>  <th>  F-statistic:       </th> <td>   1.027</td>\n",
       "</tr>\n",
       "<tr>\n",
       "  <th>Date:</th>             <td>Fri, 07 Jun 2024</td> <th>  Prob (F-statistic):</th>  <td> 0.415</td> \n",
       "</tr>\n",
       "<tr>\n",
       "  <th>Time:</th>                 <td>13:56:04</td>     <th>  Log-Likelihood:    </th> <td> -207.72</td>\n",
       "</tr>\n",
       "<tr>\n",
       "  <th>No. Observations:</th>      <td>   149</td>      <th>  AIC:               </th> <td>   431.4</td>\n",
       "</tr>\n",
       "<tr>\n",
       "  <th>Df Residuals:</th>          <td>   141</td>      <th>  BIC:               </th> <td>   455.5</td>\n",
       "</tr>\n",
       "<tr>\n",
       "  <th>Df Model:</th>              <td>     7</td>      <th>                     </th>     <td> </td>   \n",
       "</tr>\n",
       "<tr>\n",
       "  <th>Covariance Type:</th>      <td>nonrobust</td>    <th>                     </th>     <td> </td>   \n",
       "</tr>\n",
       "</table>\n",
       "<table class=\"simpletable\">\n",
       "<tr>\n",
       "           <td></td>             <th>coef</th>     <th>std err</th>      <th>t</th>      <th>P>|t|</th>  <th>[0.025</th>    <th>0.975]</th>  \n",
       "</tr>\n",
       "<tr>\n",
       "  <th>const</th>              <td>    0.0001</td> <td>    0.082</td> <td>    0.002</td> <td> 0.999</td> <td>   -0.161</td> <td>    0.162</td>\n",
       "</tr>\n",
       "<tr>\n",
       "  <th>liabilities</th>        <td>   -0.0499</td> <td>    0.066</td> <td>   -0.759</td> <td> 0.449</td> <td>   -0.180</td> <td>    0.080</td>\n",
       "</tr>\n",
       "<tr>\n",
       "  <th>equity</th>             <td>    0.0573</td> <td>    0.064</td> <td>    0.900</td> <td> 0.370</td> <td>   -0.068</td> <td>    0.183</td>\n",
       "</tr>\n",
       "<tr>\n",
       "  <th>total_assets</th>       <td>    0.0085</td> <td>    0.044</td> <td>    0.194</td> <td> 0.847</td> <td>   -0.078</td> <td>    0.095</td>\n",
       "</tr>\n",
       "<tr>\n",
       "  <th>total_revenue</th>      <td>    0.0023</td> <td>    0.101</td> <td>    0.023</td> <td> 0.982</td> <td>   -0.197</td> <td>    0.202</td>\n",
       "</tr>\n",
       "<tr>\n",
       "  <th>net_income</th>         <td>   -0.1929</td> <td>    0.190</td> <td>   -1.016</td> <td> 0.311</td> <td>   -0.568</td> <td>    0.183</td>\n",
       "</tr>\n",
       "<tr>\n",
       "  <th>dividend</th>           <td>   -0.0214</td> <td>    0.203</td> <td>   -0.105</td> <td> 0.916</td> <td>   -0.423</td> <td>    0.381</td>\n",
       "</tr>\n",
       "<tr>\n",
       "  <th>shares_outstanding</th> <td>   -0.0562</td> <td>    0.085</td> <td>   -0.661</td> <td> 0.510</td> <td>   -0.224</td> <td>    0.112</td>\n",
       "</tr>\n",
       "<tr>\n",
       "  <th>working_capital</th>    <td>    0.0273</td> <td>    0.082</td> <td>    0.332</td> <td> 0.741</td> <td>   -0.135</td> <td>    0.190</td>\n",
       "</tr>\n",
       "<tr>\n",
       "  <th>liabilites</th>         <td>   -0.0017</td> <td>    0.006</td> <td>   -0.263</td> <td> 0.793</td> <td>   -0.014</td> <td>    0.011</td>\n",
       "</tr>\n",
       "</table>\n",
       "<table class=\"simpletable\">\n",
       "<tr>\n",
       "  <th>Omnibus:</th>       <td>26.191</td> <th>  Durbin-Watson:     </th> <td>   0.081</td>\n",
       "</tr>\n",
       "<tr>\n",
       "  <th>Prob(Omnibus):</th> <td> 0.000</td> <th>  Jarque-Bera (JB):  </th> <td>  15.320</td>\n",
       "</tr>\n",
       "<tr>\n",
       "  <th>Skew:</th>          <td>-0.635</td> <th>  Prob(JB):          </th> <td>0.000471</td>\n",
       "</tr>\n",
       "<tr>\n",
       "  <th>Kurtosis:</th>      <td> 2.077</td> <th>  Cond. No.          </th> <td>1.19e+17</td>\n",
       "</tr>\n",
       "</table><br/><br/>Notes:<br/>[1] Standard Errors assume that the covariance matrix of the errors is correctly specified.<br/>[2] The smallest eigenvalue is 2.19e-32. This might indicate that there are<br/>strong multicollinearity problems or that the design matrix is singular."
      ],
      "text/plain": [
       "<class 'statsmodels.iolib.summary.Summary'>\n",
       "\"\"\"\n",
       "                            OLS Regression Results                            \n",
       "==============================================================================\n",
       "Dep. Variable:                  price   R-squared:                       0.049\n",
       "Model:                            OLS   Adj. R-squared:                  0.001\n",
       "Method:                 Least Squares   F-statistic:                     1.027\n",
       "Date:                Fri, 07 Jun 2024   Prob (F-statistic):              0.415\n",
       "Time:                        13:56:04   Log-Likelihood:                -207.72\n",
       "No. Observations:                 149   AIC:                             431.4\n",
       "Df Residuals:                     141   BIC:                             455.5\n",
       "Df Model:                           7                                         \n",
       "Covariance Type:            nonrobust                                         \n",
       "======================================================================================\n",
       "                         coef    std err          t      P>|t|      [0.025      0.975]\n",
       "--------------------------------------------------------------------------------------\n",
       "const                  0.0001      0.082      0.002      0.999      -0.161       0.162\n",
       "liabilities           -0.0499      0.066     -0.759      0.449      -0.180       0.080\n",
       "equity                 0.0573      0.064      0.900      0.370      -0.068       0.183\n",
       "total_assets           0.0085      0.044      0.194      0.847      -0.078       0.095\n",
       "total_revenue          0.0023      0.101      0.023      0.982      -0.197       0.202\n",
       "net_income            -0.1929      0.190     -1.016      0.311      -0.568       0.183\n",
       "dividend              -0.0214      0.203     -0.105      0.916      -0.423       0.381\n",
       "shares_outstanding    -0.0562      0.085     -0.661      0.510      -0.224       0.112\n",
       "working_capital        0.0273      0.082      0.332      0.741      -0.135       0.190\n",
       "liabilites            -0.0017      0.006     -0.263      0.793      -0.014       0.011\n",
       "==============================================================================\n",
       "Omnibus:                       26.191   Durbin-Watson:                   0.081\n",
       "Prob(Omnibus):                  0.000   Jarque-Bera (JB):               15.320\n",
       "Skew:                          -0.635   Prob(JB):                     0.000471\n",
       "Kurtosis:                       2.077   Cond. No.                     1.19e+17\n",
       "==============================================================================\n",
       "\n",
       "Notes:\n",
       "[1] Standard Errors assume that the covariance matrix of the errors is correctly specified.\n",
       "[2] The smallest eigenvalue is 2.19e-32. This might indicate that there are\n",
       "strong multicollinearity problems or that the design matrix is singular.\n",
       "\"\"\""
      ]
     },
     "execution_count": 36,
     "metadata": {},
     "output_type": "execute_result"
    }
   ],
   "source": [
    "X = sm.add_constant(X)\n",
    "\n",
    "results = sm.OLS(Y, X).fit()\n",
    "\n",
    "results.summary()\n",
    "\n",
    "# little to no impact, going to attempt SVM next"
   ]
  },
  {
   "cell_type": "code",
   "execution_count": 37,
   "id": "9c562df8",
   "metadata": {
    "execution": {
     "iopub.execute_input": "2023-06-01T15:27:11.478200Z",
     "iopub.status.busy": "2023-06-01T15:27:11.477704Z",
     "iopub.status.idle": "2023-06-01T15:27:11.494922Z",
     "shell.execute_reply": "2023-06-01T15:27:11.493681Z"
    },
    "executionInfo": {
     "elapsed": 16,
     "status": "ok",
     "timestamp": 1683903249346,
     "user": {
      "displayName": "James Sawyer",
      "userId": "16205900586708287718"
     },
     "user_tz": 300
    },
    "id": "dLqG1Ey0iE1K",
    "outputId": "12b0f8b3-959c-4e82-fdf6-803d62e1b84b",
    "papermill": {
     "duration": 0.050544,
     "end_time": "2023-06-01T15:27:11.497852",
     "exception": false,
     "start_time": "2023-06-01T15:27:11.447308",
     "status": "completed"
    },
    "tags": []
   },
   "outputs": [
    {
     "name": "stderr",
     "output_type": "stream",
     "text": [
      "C:\\Users\\500225~2\\AppData\\Local\\Temp/ipykernel_1396/585127230.py:5: FutureWarning: In a future version of pandas all arguments of DataFrame.drop except for the argument 'labels' will be keyword-only\n",
      "  X = cdfstock_1.drop(['price','Stock','Date','current_assets','current_liabilities'], 1).sample(frac=0.3, replace=True)\n"
     ]
    },
    {
     "data": {
      "text/plain": [
       "SVR()"
      ]
     },
     "execution_count": 37,
     "metadata": {},
     "output_type": "execute_result"
    }
   ],
   "source": [
    "# SVM 2\n",
    "\n",
    "\n",
    "svr = SVR()\n",
    "X = cdfstock_1.drop(['price','Stock','Date','current_assets','current_liabilities'], 1).sample(frac=0.3, replace=True)\n",
    "Y = cdfstock_1.price.sample(frac=0.3, replace=True)\n",
    "svr.fit(X,Y)"
   ]
  },
  {
   "cell_type": "code",
   "execution_count": 38,
   "id": "df1589ec",
   "metadata": {
    "execution": {
     "iopub.execute_input": "2023-06-01T15:27:11.559535Z",
     "iopub.status.busy": "2023-06-01T15:27:11.558986Z",
     "iopub.status.idle": "2023-06-01T15:27:11.569831Z",
     "shell.execute_reply": "2023-06-01T15:27:11.568814Z"
    },
    "executionInfo": {
     "elapsed": 16,
     "status": "ok",
     "timestamp": 1683903249347,
     "user": {
      "displayName": "James Sawyer",
      "userId": "16205900586708287718"
     },
     "user_tz": 300
    },
    "id": "UK1WxsHiiMSJ",
    "outputId": "08b5b396-07b5-4f1f-8cf6-3f6021d1b8a9",
    "papermill": {
     "duration": 0.044889,
     "end_time": "2023-06-01T15:27:11.572262",
     "exception": false,
     "start_time": "2023-06-01T15:27:11.527373",
     "status": "completed"
    },
    "tags": []
   },
   "outputs": [
    {
     "data": {
      "text/plain": [
       "0.18134338372874959"
      ]
     },
     "execution_count": 38,
     "metadata": {},
     "output_type": "execute_result"
    }
   ],
   "source": [
    "svr.score(X, Y)\n",
    "\n",
    "# large improvement in model performance after normalizing and standardizing "
   ]
  },
  {
   "cell_type": "code",
   "execution_count": 39,
   "id": "32216099",
   "metadata": {
    "execution": {
     "iopub.execute_input": "2023-06-01T15:27:11.635138Z",
     "iopub.status.busy": "2023-06-01T15:27:11.634593Z",
     "iopub.status.idle": "2023-06-01T15:27:11.653177Z",
     "shell.execute_reply": "2023-06-01T15:27:11.652085Z"
    },
    "executionInfo": {
     "elapsed": 425,
     "status": "ok",
     "timestamp": 1683904960653,
     "user": {
      "displayName": "James Sawyer",
      "userId": "16205900586708287718"
     },
     "user_tz": 300
    },
    "id": "4wXLDItaiWE6",
    "outputId": "8dae7d1e-87da-4f9b-ffc0-d717ae5d3c00",
    "papermill": {
     "duration": 0.053122,
     "end_time": "2023-06-01T15:27:11.655732",
     "exception": false,
     "start_time": "2023-06-01T15:27:11.602610",
     "status": "completed"
    },
    "tags": []
   },
   "outputs": [
    {
     "name": "stderr",
     "output_type": "stream",
     "text": [
      "C:\\Users\\500225~2\\AppData\\Local\\Temp/ipykernel_1396/2488529139.py:5: FutureWarning: In a future version of pandas all arguments of DataFrame.drop except for the argument 'labels' will be keyword-only\n",
      "  X = cdfstock_1.drop(['price','Stock','Date','current_assets','current_liabilities'], 1).sample(frac=0.3, replace=True)\n"
     ]
    },
    {
     "data": {
      "text/plain": [
       "SVR(C=10, epsilon=0.05, gamma=0.5)"
      ]
     },
     "execution_count": 39,
     "metadata": {},
     "output_type": "execute_result"
    }
   ],
   "source": [
    "# hyperparameter tuning for time series forecasting with support vector regressor\n",
    "\n",
    "\n",
    "svr = SVR(kernel='rbf',gamma=0.5, C=10, epsilon = 0.05)\n",
    "X = cdfstock_1.drop(['price','Stock','Date','current_assets','current_liabilities'], 1).sample(frac=0.3, replace=True)\n",
    "Y = cdfstock_1.price.sample(frac=0.3, replace=True)\n",
    "svr.fit(X,Y)"
   ]
  },
  {
   "cell_type": "code",
   "execution_count": 40,
   "id": "0717d9bc",
   "metadata": {
    "execution": {
     "iopub.execute_input": "2023-06-01T15:27:11.718644Z",
     "iopub.status.busy": "2023-06-01T15:27:11.718132Z",
     "iopub.status.idle": "2023-06-01T15:27:11.730277Z",
     "shell.execute_reply": "2023-06-01T15:27:11.728953Z"
    },
    "executionInfo": {
     "elapsed": 3,
     "status": "ok",
     "timestamp": 1683904961818,
     "user": {
      "displayName": "James Sawyer",
      "userId": "16205900586708287718"
     },
     "user_tz": 300
    },
    "id": "iuDsnBdrlDHJ",
    "outputId": "1b1dda2b-57be-4d6d-b1f3-16e33bfc9558",
    "papermill": {
     "duration": 0.047214,
     "end_time": "2023-06-01T15:27:11.732910",
     "exception": false,
     "start_time": "2023-06-01T15:27:11.685696",
     "status": "completed"
    },
    "tags": []
   },
   "outputs": [
    {
     "data": {
      "text/plain": [
       "0.9150340195885984"
      ]
     },
     "execution_count": 40,
     "metadata": {},
     "output_type": "execute_result"
    }
   ],
   "source": [
    "svr.score(X, Y)\n",
    "\n",
    "# significantly higher score due to tuning. "
   ]
  },
  {
   "cell_type": "code",
   "execution_count": 41,
   "id": "5f7cf4d0",
   "metadata": {
    "execution": {
     "iopub.execute_input": "2023-06-01T15:27:11.795185Z",
     "iopub.status.busy": "2023-06-01T15:27:11.794685Z",
     "iopub.status.idle": "2023-06-01T15:27:11.799673Z",
     "shell.execute_reply": "2023-06-01T15:27:11.798521Z"
    },
    "id": "jQijXo4-3mHK",
    "papermill": {
     "duration": 0.039805,
     "end_time": "2023-06-01T15:27:11.802163",
     "exception": false,
     "start_time": "2023-06-01T15:27:11.762358",
     "status": "completed"
    },
    "tags": []
   },
   "outputs": [],
   "source": [
    "# SVM outperforms OLS when it comes to predicting stock price with the balance sheet data. "
   ]
  }
 ],
 "metadata": {
  "kernelspec": {
   "display_name": "Python 3 (ipykernel)",
   "language": "python",
   "name": "python3"
  },
  "language_info": {
   "codemirror_mode": {
    "name": "ipython",
    "version": 3
   },
   "file_extension": ".py",
   "mimetype": "text/x-python",
   "name": "python",
   "nbconvert_exporter": "python",
   "pygments_lexer": "ipython3",
   "version": "3.9.7"
  },
  "papermill": {
   "default_parameters": {},
   "duration": 29.581889,
   "end_time": "2023-06-01T15:27:13.058613",
   "environment_variables": {},
   "exception": null,
   "input_path": "__notebook__.ipynb",
   "output_path": "__notebook__.ipynb",
   "parameters": {},
   "start_time": "2023-06-01T15:26:43.476724",
   "version": "2.4.0"
  }
 },
 "nbformat": 4,
 "nbformat_minor": 5
}

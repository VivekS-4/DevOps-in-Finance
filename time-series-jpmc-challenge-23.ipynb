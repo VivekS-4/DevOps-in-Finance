{
 "cells": [
  {
   "cell_type": "code",
   "execution_count": 1,
   "id": "ec63d0a6",
   "metadata": {
    "execution": {
     "iopub.execute_input": "2023-06-10T23:11:19.739746Z",
     "iopub.status.busy": "2023-06-10T23:11:19.738596Z",
     "iopub.status.idle": "2023-06-10T23:11:23.576987Z",
     "shell.execute_reply": "2023-06-10T23:11:23.575697Z"
    },
    "id": "7NkQUU_4YWQe",
    "papermill": {
     "duration": 3.852511,
     "end_time": "2023-06-10T23:11:23.580036",
     "exception": false,
     "start_time": "2023-06-10T23:11:19.727525",
     "status": "completed"
    },
    "tags": []
   },
   "outputs": [],
   "source": [
    "# imports\n",
    "\n",
    "import numpy as np\n",
    "from numpy import mean\n",
    "from numpy import std\n",
    "from numpy import absolute\n",
    "import pandas as pd\n",
    "import scipy\n",
    "import matplotlib.pyplot as plt\n",
    "import seaborn as sns\n",
    "%matplotlib inline\n",
    "from scipy.stats.mstats import winsorize\n",
    "from sklearn.decomposition import PCA\n",
    "from sklearn.preprocessing import StandardScaler\n",
    "import math\n",
    "from sklearn import linear_model\n",
    "import statsmodels.api as sm\n",
    "from sklearn.model_selection import cross_val_score\n",
    "from sklearn.svm import SVR\n",
    "from sklearn.preprocessing import normalize\n",
    "from sklearn.preprocessing import scale\n",
    "from sklearn.preprocessing import MinMaxScaler\n"
   ]
  },
  {
   "cell_type": "code",
   "execution_count": 4,
   "id": "a7c07ffe",
   "metadata": {
    "execution": {
     "iopub.execute_input": "2023-06-10T23:11:23.599639Z",
     "iopub.status.busy": "2023-06-10T23:11:23.599204Z",
     "iopub.status.idle": "2023-06-10T23:11:23.712670Z",
     "shell.execute_reply": "2023-06-10T23:11:23.711756Z"
    },
    "id": "rKwdOWqoYajb",
    "papermill": {
     "duration": 0.126509,
     "end_time": "2023-06-10T23:11:23.715354",
     "exception": false,
     "start_time": "2023-06-10T23:11:23.588845",
     "status": "completed"
    },
    "scrolled": true,
    "tags": []
   },
   "outputs": [],
   "source": [
    "data = pd.read_csv('Train.csv')\n",
    "data.index = data['Date']\n",
    "\n",
    "# https://www.kaggle.com/datasets/abhishekgautam12/jpmc-quant?select=Train.csv"
   ]
  },
  {
   "cell_type": "code",
   "execution_count": 5,
   "id": "80fc55cf",
   "metadata": {
    "execution": {
     "iopub.execute_input": "2023-06-10T23:11:23.737672Z",
     "iopub.status.busy": "2023-06-10T23:11:23.736907Z",
     "iopub.status.idle": "2023-06-10T23:11:23.752981Z",
     "shell.execute_reply": "2023-06-10T23:11:23.751656Z"
    },
    "id": "dZbSjJ_mJjMA",
    "papermill": {
     "duration": 0.028911,
     "end_time": "2023-06-10T23:11:23.755639",
     "exception": false,
     "start_time": "2023-06-10T23:11:23.726728",
     "status": "completed"
    },
    "tags": []
   },
   "outputs": [],
   "source": [
    "# filter into a single stock\n",
    "\n",
    "train_1 = data[data['Stock'] == 'Stock 1']\n",
    "\n",
    "test_1 = data[data['Stock'] == 'Stock 1']"
   ]
  },
  {
   "cell_type": "code",
   "execution_count": 6,
   "id": "cd98b6c6",
   "metadata": {
    "execution": {
     "iopub.execute_input": "2023-06-10T23:11:23.775239Z",
     "iopub.status.busy": "2023-06-10T23:11:23.774822Z",
     "iopub.status.idle": "2023-06-10T23:11:23.779494Z",
     "shell.execute_reply": "2023-06-10T23:11:23.778309Z"
    },
    "id": "FWImdPXZeEQb",
    "papermill": {
     "duration": 0.017142,
     "end_time": "2023-06-10T23:11:23.781738",
     "exception": false,
     "start_time": "2023-06-10T23:11:23.764596",
     "status": "completed"
    },
    "tags": []
   },
   "outputs": [],
   "source": [
    "train_start_dt = '2006-07-31'\n",
    "test_start_dt = '2016-02-29' # index of 115"
   ]
  },
  {
   "cell_type": "code",
   "execution_count": 7,
   "id": "38f3114b",
   "metadata": {
    "execution": {
     "iopub.execute_input": "2023-06-10T23:11:23.802862Z",
     "iopub.status.busy": "2023-06-10T23:11:23.802204Z",
     "iopub.status.idle": "2023-06-10T23:11:23.816401Z",
     "shell.execute_reply": "2023-06-10T23:11:23.815114Z"
    },
    "id": "cYivRdQpHDj3",
    "outputId": "f5791ee4-5ee9-4231-8bb3-f6e64c77fdcc",
    "papermill": {
     "duration": 0.028686,
     "end_time": "2023-06-10T23:11:23.819073",
     "exception": false,
     "start_time": "2023-06-10T23:11:23.790387",
     "status": "completed"
    },
    "tags": []
   },
   "outputs": [
    {
     "name": "stdout",
     "output_type": "stream",
     "text": [
      "Training data shape:  (115, 1)\n",
      "Test data shape:  (35, 1)\n"
     ]
    }
   ],
   "source": [
    "train = train_1.copy()[(train_1.index >= train_start_dt) & (train_1.index < test_start_dt)][['price']]\n",
    "test = test_1.copy()[test_1.index >= test_start_dt][['price']]\n",
    "\n",
    "print('Training data shape: ', train.shape)\n",
    "print('Test data shape: ', test.shape)"
   ]
  },
  {
   "cell_type": "code",
   "execution_count": 8,
   "id": "bb27dcdf",
   "metadata": {
    "execution": {
     "iopub.execute_input": "2023-06-10T23:11:23.839056Z",
     "iopub.status.busy": "2023-06-10T23:11:23.838350Z",
     "iopub.status.idle": "2023-06-10T23:11:23.858492Z",
     "shell.execute_reply": "2023-06-10T23:11:23.857004Z"
    },
    "id": "K2ZOODXeOWtv",
    "outputId": "c6f74f41-6a9a-4ba1-d296-22a332e0ac98",
    "papermill": {
     "duration": 0.033285,
     "end_time": "2023-06-10T23:11:23.861158",
     "exception": false,
     "start_time": "2023-06-10T23:11:23.827873",
     "status": "completed"
    },
    "tags": []
   },
   "outputs": [
    {
     "name": "stdout",
     "output_type": "stream",
     "text": [
      "<class 'pandas.core.frame.DataFrame'>\n",
      "Index: 115 entries, 2006-07-31 to 2016-01-29\n",
      "Data columns (total 1 columns):\n",
      " #   Column  Non-Null Count  Dtype  \n",
      "---  ------  --------------  -----  \n",
      " 0   price   115 non-null    float64\n",
      "dtypes: float64(1)\n",
      "memory usage: 1.8+ KB\n"
     ]
    }
   ],
   "source": [
    "train.info()"
   ]
  },
  {
   "cell_type": "code",
   "execution_count": 9,
   "id": "a95d7d46",
   "metadata": {
    "execution": {
     "iopub.execute_input": "2023-06-10T23:11:23.880952Z",
     "iopub.status.busy": "2023-06-10T23:11:23.880552Z",
     "iopub.status.idle": "2023-06-10T23:11:23.911409Z",
     "shell.execute_reply": "2023-06-10T23:11:23.910290Z"
    },
    "id": "h-ZORblqHfYR",
    "outputId": "b6f378fe-919a-4d6a-b46e-4ab668788ae5",
    "papermill": {
     "duration": 0.043804,
     "end_time": "2023-06-10T23:11:23.913918",
     "exception": false,
     "start_time": "2023-06-10T23:11:23.870114",
     "status": "completed"
    },
    "tags": []
   },
   "outputs": [
    {
     "data": {
      "text/html": [
       "<div>\n",
       "<style scoped>\n",
       "    .dataframe tbody tr th:only-of-type {\n",
       "        vertical-align: middle;\n",
       "    }\n",
       "\n",
       "    .dataframe tbody tr th {\n",
       "        vertical-align: top;\n",
       "    }\n",
       "\n",
       "    .dataframe thead th {\n",
       "        text-align: right;\n",
       "    }\n",
       "</style>\n",
       "<table border=\"1\" class=\"dataframe\">\n",
       "  <thead>\n",
       "    <tr style=\"text-align: right;\">\n",
       "      <th></th>\n",
       "      <th>price</th>\n",
       "    </tr>\n",
       "    <tr>\n",
       "      <th>Date</th>\n",
       "      <th></th>\n",
       "    </tr>\n",
       "  </thead>\n",
       "  <tbody>\n",
       "    <tr>\n",
       "      <th>2006-07-31</th>\n",
       "      <td>0.000000</td>\n",
       "    </tr>\n",
       "    <tr>\n",
       "      <th>2006-08-31</th>\n",
       "      <td>0.069586</td>\n",
       "    </tr>\n",
       "    <tr>\n",
       "      <th>2006-09-29</th>\n",
       "      <td>0.114503</td>\n",
       "    </tr>\n",
       "    <tr>\n",
       "      <th>2006-10-31</th>\n",
       "      <td>0.161978</td>\n",
       "    </tr>\n",
       "    <tr>\n",
       "      <th>2006-11-30</th>\n",
       "      <td>0.150476</td>\n",
       "    </tr>\n",
       "  </tbody>\n",
       "</table>\n",
       "</div>"
      ],
      "text/plain": [
       "               price\n",
       "Date                \n",
       "2006-07-31  0.000000\n",
       "2006-08-31  0.069586\n",
       "2006-09-29  0.114503\n",
       "2006-10-31  0.161978\n",
       "2006-11-30  0.150476"
      ]
     },
     "execution_count": 9,
     "metadata": {},
     "output_type": "execute_result"
    }
   ],
   "source": [
    "# standardize\n",
    "scaler = MinMaxScaler()\n",
    "train['price'] = scaler.fit_transform(train)\n",
    "train.head(5)\n"
   ]
  },
  {
   "cell_type": "code",
   "execution_count": 10,
   "id": "3a1c151e",
   "metadata": {
    "execution": {
     "iopub.execute_input": "2023-06-10T23:11:23.934036Z",
     "iopub.status.busy": "2023-06-10T23:11:23.933604Z",
     "iopub.status.idle": "2023-06-10T23:11:23.945894Z",
     "shell.execute_reply": "2023-06-10T23:11:23.944678Z"
    },
    "id": "3DNntGQnZX8G",
    "outputId": "eab979eb-7d9f-4329-b36a-1b00148dacb7",
    "papermill": {
     "duration": 0.025243,
     "end_time": "2023-06-10T23:11:23.948280",
     "exception": false,
     "start_time": "2023-06-10T23:11:23.923037",
     "status": "completed"
    },
    "tags": []
   },
   "outputs": [
    {
     "data": {
      "text/html": [
       "<div>\n",
       "<style scoped>\n",
       "    .dataframe tbody tr th:only-of-type {\n",
       "        vertical-align: middle;\n",
       "    }\n",
       "\n",
       "    .dataframe tbody tr th {\n",
       "        vertical-align: top;\n",
       "    }\n",
       "\n",
       "    .dataframe thead th {\n",
       "        text-align: right;\n",
       "    }\n",
       "</style>\n",
       "<table border=\"1\" class=\"dataframe\">\n",
       "  <thead>\n",
       "    <tr style=\"text-align: right;\">\n",
       "      <th></th>\n",
       "      <th>price</th>\n",
       "    </tr>\n",
       "    <tr>\n",
       "      <th>Date</th>\n",
       "      <th></th>\n",
       "    </tr>\n",
       "  </thead>\n",
       "  <tbody>\n",
       "    <tr>\n",
       "      <th>2016-02-29</th>\n",
       "      <td>0.961011</td>\n",
       "    </tr>\n",
       "    <tr>\n",
       "      <th>2016-03-31</th>\n",
       "      <td>0.925429</td>\n",
       "    </tr>\n",
       "    <tr>\n",
       "      <th>2016-04-29</th>\n",
       "      <td>0.955056</td>\n",
       "    </tr>\n",
       "    <tr>\n",
       "      <th>2016-05-31</th>\n",
       "      <td>0.945989</td>\n",
       "    </tr>\n",
       "    <tr>\n",
       "      <th>2016-06-30</th>\n",
       "      <td>0.936828</td>\n",
       "    </tr>\n",
       "  </tbody>\n",
       "</table>\n",
       "</div>"
      ],
      "text/plain": [
       "               price\n",
       "Date                \n",
       "2016-02-29  0.961011\n",
       "2016-03-31  0.925429\n",
       "2016-04-29  0.955056\n",
       "2016-05-31  0.945989\n",
       "2016-06-30  0.936828"
      ]
     },
     "execution_count": 10,
     "metadata": {},
     "output_type": "execute_result"
    }
   ],
   "source": [
    "test['price'] = scaler.transform(test)\n",
    "test.head(5)"
   ]
  },
  {
   "cell_type": "code",
   "execution_count": 11,
   "id": "d4fab452",
   "metadata": {
    "execution": {
     "iopub.execute_input": "2023-06-10T23:11:23.968734Z",
     "iopub.status.busy": "2023-06-10T23:11:23.968305Z",
     "iopub.status.idle": "2023-06-10T23:11:23.972795Z",
     "shell.execute_reply": "2023-06-10T23:11:23.971924Z"
    },
    "id": "-VauCeZcHplZ",
    "papermill": {
     "duration": 0.017516,
     "end_time": "2023-06-10T23:11:23.975119",
     "exception": false,
     "start_time": "2023-06-10T23:11:23.957603",
     "status": "completed"
    },
    "tags": []
   },
   "outputs": [],
   "source": [
    "# Converting to numpy arrays\n",
    "\n",
    "train_data = train.values\n",
    "test_data = test.values"
   ]
  },
  {
   "cell_type": "code",
   "execution_count": 12,
   "id": "e1e5c448",
   "metadata": {
    "execution": {
     "iopub.execute_input": "2023-06-10T23:11:23.995554Z",
     "iopub.status.busy": "2023-06-10T23:11:23.995090Z",
     "iopub.status.idle": "2023-06-10T23:11:24.000282Z",
     "shell.execute_reply": "2023-06-10T23:11:23.999039Z"
    },
    "id": "qWtFjSiaPv8v",
    "papermill": {
     "duration": 0.018093,
     "end_time": "2023-06-10T23:11:24.002594",
     "exception": false,
     "start_time": "2023-06-10T23:11:23.984501",
     "status": "completed"
    },
    "tags": []
   },
   "outputs": [],
   "source": [
    "# add some time steps\n",
    "\n",
    "timesteps=3"
   ]
  },
  {
   "cell_type": "code",
   "execution_count": 13,
   "id": "fc69319e",
   "metadata": {
    "execution": {
     "iopub.execute_input": "2023-06-10T23:11:24.022759Z",
     "iopub.status.busy": "2023-06-10T23:11:24.022364Z",
     "iopub.status.idle": "2023-06-10T23:11:24.032056Z",
     "shell.execute_reply": "2023-06-10T23:11:24.031054Z"
    },
    "id": "q0Z5NU4kQAoQ",
    "outputId": "9878272a-761a-4bd6-d994-989e7ba1aba0",
    "papermill": {
     "duration": 0.022599,
     "end_time": "2023-06-10T23:11:24.034451",
     "exception": false,
     "start_time": "2023-06-10T23:11:24.011852",
     "status": "completed"
    },
    "tags": []
   },
   "outputs": [
    {
     "data": {
      "text/plain": [
       "(113, 3)"
      ]
     },
     "execution_count": 13,
     "metadata": {},
     "output_type": "execute_result"
    }
   ],
   "source": [
    "train_data_timesteps=np.array([[j for j in train_data[i:i+timesteps]] for i in range(0,len(train_data)-timesteps+1)])[:,:,0]\n",
    "train_data_timesteps.shape"
   ]
  },
  {
   "cell_type": "code",
   "execution_count": 14,
   "id": "a91280f0",
   "metadata": {
    "execution": {
     "iopub.execute_input": "2023-06-10T23:11:24.055287Z",
     "iopub.status.busy": "2023-06-10T23:11:24.054414Z",
     "iopub.status.idle": "2023-06-10T23:11:24.063184Z",
     "shell.execute_reply": "2023-06-10T23:11:24.062087Z"
    },
    "id": "gA8LPylBPwMB",
    "outputId": "393487e6-e5e7-403b-94b5-cbaa90eae5fa",
    "papermill": {
     "duration": 0.02179,
     "end_time": "2023-06-10T23:11:24.065620",
     "exception": false,
     "start_time": "2023-06-10T23:11:24.043830",
     "status": "completed"
    },
    "tags": []
   },
   "outputs": [
    {
     "data": {
      "text/plain": [
       "(33, 3)"
      ]
     },
     "execution_count": 14,
     "metadata": {},
     "output_type": "execute_result"
    }
   ],
   "source": [
    "test_data_timesteps=np.array([[j for j in test_data[i:i+timesteps]] for i in range(0,len(test_data)-timesteps+1)])[:,:,0]\n",
    "test_data_timesteps.shape"
   ]
  },
  {
   "cell_type": "code",
   "execution_count": 15,
   "id": "f034301f",
   "metadata": {
    "execution": {
     "iopub.execute_input": "2023-06-10T23:11:24.086563Z",
     "iopub.status.busy": "2023-06-10T23:11:24.086128Z",
     "iopub.status.idle": "2023-06-10T23:11:24.093593Z",
     "shell.execute_reply": "2023-06-10T23:11:24.092135Z"
    },
    "id": "ohSq916jPwWJ",
    "outputId": "02fe8cb7-511c-4646-9f99-ef513a4e9e27",
    "papermill": {
     "duration": 0.020978,
     "end_time": "2023-06-10T23:11:24.096240",
     "exception": false,
     "start_time": "2023-06-10T23:11:24.075262",
     "status": "completed"
    },
    "tags": []
   },
   "outputs": [
    {
     "name": "stdout",
     "output_type": "stream",
     "text": [
      "(113, 2) (113, 1)\n",
      "(33, 2) (33, 1)\n"
     ]
    }
   ],
   "source": [
    "x_train, y_train = train_data_timesteps[:,:timesteps-1],train_data_timesteps[:,[timesteps-1]]\n",
    "\n",
    "x_test, y_test = test_data_timesteps[:,:timesteps-1],test_data_timesteps[:,[timesteps-1]]\n",
    "\n",
    "print(x_train.shape, y_train.shape)\n",
    "print(x_test.shape, y_test.shape)"
   ]
  },
  {
   "cell_type": "code",
   "execution_count": 16,
   "id": "50f40db9",
   "metadata": {
    "execution": {
     "iopub.execute_input": "2023-06-10T23:11:24.117324Z",
     "iopub.status.busy": "2023-06-10T23:11:24.116910Z",
     "iopub.status.idle": "2023-06-10T23:11:24.122797Z",
     "shell.execute_reply": "2023-06-10T23:11:24.121762Z"
    },
    "id": "HJx2TOWoJGIA",
    "papermill": {
     "duration": 0.019069,
     "end_time": "2023-06-10T23:11:24.124997",
     "exception": false,
     "start_time": "2023-06-10T23:11:24.105928",
     "status": "completed"
    },
    "tags": []
   },
   "outputs": [],
   "source": [
    "model = SVR(kernel='rbf',gamma=0.5, C=10, epsilon = 0.05)\n"
   ]
  },
  {
   "cell_type": "code",
   "execution_count": 17,
   "id": "d4227bfc",
   "metadata": {
    "execution": {
     "iopub.execute_input": "2023-06-10T23:11:24.146253Z",
     "iopub.status.busy": "2023-06-10T23:11:24.145793Z",
     "iopub.status.idle": "2023-06-10T23:11:24.161342Z",
     "shell.execute_reply": "2023-06-10T23:11:24.159963Z"
    },
    "id": "BSyPkPFmHflo",
    "outputId": "47d7a563-9487-4fda-ec1b-d669773b792f",
    "papermill": {
     "duration": 0.029217,
     "end_time": "2023-06-10T23:11:24.163890",
     "exception": false,
     "start_time": "2023-06-10T23:11:24.134673",
     "status": "completed"
    },
    "tags": []
   },
   "outputs": [
    {
     "data": {
      "text/plain": [
       "SVR(C=10, epsilon=0.05, gamma=0.5)"
      ]
     },
     "execution_count": 17,
     "metadata": {},
     "output_type": "execute_result"
    }
   ],
   "source": [
    "model.fit(x_train, y_train[:,0])\n"
   ]
  },
  {
   "cell_type": "code",
   "execution_count": 18,
   "id": "8cadf5a1",
   "metadata": {
    "execution": {
     "iopub.execute_input": "2023-06-10T23:11:24.185839Z",
     "iopub.status.busy": "2023-06-10T23:11:24.185407Z",
     "iopub.status.idle": "2023-06-10T23:11:24.194860Z",
     "shell.execute_reply": "2023-06-10T23:11:24.193683Z"
    },
    "id": "sDk1Lo3tQXWf",
    "outputId": "4c076406-00b9-4d96-fd70-39256d439771",
    "papermill": {
     "duration": 0.023034,
     "end_time": "2023-06-10T23:11:24.197130",
     "exception": false,
     "start_time": "2023-06-10T23:11:24.174096",
     "status": "completed"
    },
    "tags": []
   },
   "outputs": [
    {
     "data": {
      "text/plain": [
       "SVR(C=10, epsilon=0.05, gamma=0.5)"
      ]
     },
     "execution_count": 18,
     "metadata": {},
     "output_type": "execute_result"
    }
   ],
   "source": [
    "SVR(C=10, cache_size=200, coef0=0.0, degree=3, epsilon=0.05, gamma=0.5,\n",
    "    kernel='rbf', max_iter=-1, shrinking=True, tol=0.001, verbose=False)"
   ]
  },
  {
   "cell_type": "code",
   "execution_count": 19,
   "id": "7e12a61e",
   "metadata": {
    "execution": {
     "iopub.execute_input": "2023-06-10T23:11:24.219548Z",
     "iopub.status.busy": "2023-06-10T23:11:24.219098Z",
     "iopub.status.idle": "2023-06-10T23:11:24.227915Z",
     "shell.execute_reply": "2023-06-10T23:11:24.226790Z"
    },
    "id": "DebSuetgQZ__",
    "outputId": "4d0883e7-596a-4327-f3ba-4dab3007af63",
    "papermill": {
     "duration": 0.023412,
     "end_time": "2023-06-10T23:11:24.230576",
     "exception": false,
     "start_time": "2023-06-10T23:11:24.207164",
     "status": "completed"
    },
    "tags": []
   },
   "outputs": [
    {
     "name": "stdout",
     "output_type": "stream",
     "text": [
      "(113, 1) (33, 1)\n"
     ]
    }
   ],
   "source": [
    "y_train_pred = model.predict(x_train).reshape(-1,1)\n",
    "y_test_pred = model.predict(x_test).reshape(-1,1)\n",
    "\n",
    "print(y_train_pred.shape, y_test_pred.shape)"
   ]
  },
  {
   "cell_type": "code",
   "execution_count": 20,
   "id": "d6b31a89",
   "metadata": {
    "execution": {
     "iopub.execute_input": "2023-06-10T23:11:24.252811Z",
     "iopub.status.busy": "2023-06-10T23:11:24.252388Z",
     "iopub.status.idle": "2023-06-10T23:11:24.259633Z",
     "shell.execute_reply": "2023-06-10T23:11:24.258444Z"
    },
    "id": "h3LZ__IRQeUP",
    "outputId": "6e308175-aaa6-42d4-c2ba-01d603cf3ce6",
    "papermill": {
     "duration": 0.02125,
     "end_time": "2023-06-10T23:11:24.262162",
     "exception": false,
     "start_time": "2023-06-10T23:11:24.240912",
     "status": "completed"
    },
    "tags": []
   },
   "outputs": [
    {
     "name": "stdout",
     "output_type": "stream",
     "text": [
      "113 33\n"
     ]
    }
   ],
   "source": [
    "y_train_pred = scaler.inverse_transform(y_train_pred)\n",
    "y_test_pred = scaler.inverse_transform(y_test_pred)\n",
    "\n",
    "print(len(y_train_pred), len(y_test_pred))"
   ]
  },
  {
   "cell_type": "code",
   "execution_count": 21,
   "id": "34a484a7",
   "metadata": {
    "execution": {
     "iopub.execute_input": "2023-06-10T23:11:24.285509Z",
     "iopub.status.busy": "2023-06-10T23:11:24.285073Z",
     "iopub.status.idle": "2023-06-10T23:11:24.291637Z",
     "shell.execute_reply": "2023-06-10T23:11:24.290485Z"
    },
    "id": "EuVD-9L_Qgc3",
    "outputId": "c6c03690-9eb1-4de4-b8ad-bccd6ebde65d",
    "papermill": {
     "duration": 0.021112,
     "end_time": "2023-06-10T23:11:24.294123",
     "exception": false,
     "start_time": "2023-06-10T23:11:24.273011",
     "status": "completed"
    },
    "tags": []
   },
   "outputs": [
    {
     "name": "stdout",
     "output_type": "stream",
     "text": [
      "113 33\n"
     ]
    }
   ],
   "source": [
    "# Scaling the original values\n",
    "y_train = scaler.inverse_transform(y_train)\n",
    "y_test = scaler.inverse_transform(y_test)\n",
    "\n",
    "print(len(y_train), len(y_test))"
   ]
  },
  {
   "cell_type": "code",
   "execution_count": 22,
   "id": "a73336a0",
   "metadata": {
    "execution": {
     "iopub.execute_input": "2023-06-10T23:11:24.317210Z",
     "iopub.status.busy": "2023-06-10T23:11:24.316520Z",
     "iopub.status.idle": "2023-06-10T23:11:24.324916Z",
     "shell.execute_reply": "2023-06-10T23:11:24.323722Z"
    },
    "id": "OvW6unI5QiuH",
    "outputId": "4ce3abc2-a4e4-449e-9da3-fa4be58f4d97",
    "papermill": {
     "duration": 0.022754,
     "end_time": "2023-06-10T23:11:24.327400",
     "exception": false,
     "start_time": "2023-06-10T23:11:24.304646",
     "status": "completed"
    },
    "tags": []
   },
   "outputs": [
    {
     "name": "stdout",
     "output_type": "stream",
     "text": [
      "113 33\n"
     ]
    }
   ],
   "source": [
    "train_timestamps = train_1[(train_1.index < test_start_dt) & (train_1.index >= train_start_dt)].index[timesteps-1:]\n",
    "test_timestamps = train_1[test_start_dt:].index[timesteps-1:]\n",
    "\n",
    "print(len(train_timestamps), len(test_timestamps))"
   ]
  },
  {
   "cell_type": "code",
   "execution_count": 23,
   "id": "9e332378",
   "metadata": {
    "execution": {
     "iopub.execute_input": "2023-06-10T23:11:24.351010Z",
     "iopub.status.busy": "2023-06-10T23:11:24.350630Z",
     "iopub.status.idle": "2023-06-10T23:11:24.356471Z",
     "shell.execute_reply": "2023-06-10T23:11:24.355327Z"
    },
    "id": "Up9Nu9LJRAOn",
    "papermill": {
     "duration": 0.021049,
     "end_time": "2023-06-10T23:11:24.358858",
     "exception": false,
     "start_time": "2023-06-10T23:11:24.337809",
     "status": "completed"
    },
    "tags": []
   },
   "outputs": [],
   "source": [
    "# defining MAPE\n",
    "\n",
    "def mape(predictions, actuals):\n",
    "    \"\"\"Mean absolute percentage error\"\"\"\n",
    "    predictions = np.array(predictions)\n",
    "    actuals = np.array(actuals)\n",
    "    return (np.absolute(predictions - actuals) / actuals).mean()"
   ]
  },
  {
   "cell_type": "code",
   "execution_count": 24,
   "id": "654c1187",
   "metadata": {
    "execution": {
     "iopub.execute_input": "2023-06-10T23:11:24.382330Z",
     "iopub.status.busy": "2023-06-10T23:11:24.381917Z",
     "iopub.status.idle": "2023-06-10T23:11:24.387859Z",
     "shell.execute_reply": "2023-06-10T23:11:24.386639Z"
    },
    "id": "1xICDG5tQ1f3",
    "outputId": "1e64ff03-b664-4259-80f7-f8096f283146",
    "papermill": {
     "duration": 0.021087,
     "end_time": "2023-06-10T23:11:24.390623",
     "exception": false,
     "start_time": "2023-06-10T23:11:24.369536",
     "status": "completed"
    },
    "tags": []
   },
   "outputs": [
    {
     "name": "stdout",
     "output_type": "stream",
     "text": [
      "MAPE for training data:  0.6501702034172042 %\n"
     ]
    }
   ],
   "source": [
    "print('MAPE for training data: ', mape(y_train_pred, y_train)*100, '%')\n"
   ]
  },
  {
   "cell_type": "code",
   "execution_count": 25,
   "id": "fd186552",
   "metadata": {
    "execution": {
     "iopub.execute_input": "2023-06-10T23:11:24.413807Z",
     "iopub.status.busy": "2023-06-10T23:11:24.413414Z",
     "iopub.status.idle": "2023-06-10T23:11:24.419322Z",
     "shell.execute_reply": "2023-06-10T23:11:24.418252Z"
    },
    "id": "lx1yK-_2Q48P",
    "outputId": "87446818-df4a-42d8-8a86-42aa49f0b70e",
    "papermill": {
     "duration": 0.020571,
     "end_time": "2023-06-10T23:11:24.421899",
     "exception": false,
     "start_time": "2023-06-10T23:11:24.401328",
     "status": "completed"
    },
    "tags": []
   },
   "outputs": [
    {
     "name": "stdout",
     "output_type": "stream",
     "text": [
      "MAPE for testing data:  0.6509046338767247 %\n"
     ]
    }
   ],
   "source": [
    "print('MAPE for testing data: ', mape(y_test_pred, y_test)*100, '%')\n"
   ]
  },
  {
   "cell_type": "code",
   "execution_count": 26,
   "id": "fa3267ad",
   "metadata": {
    "execution": {
     "iopub.execute_input": "2023-06-10T23:11:24.445991Z",
     "iopub.status.busy": "2023-06-10T23:11:24.445609Z",
     "iopub.status.idle": "2023-06-10T23:11:24.452908Z",
     "shell.execute_reply": "2023-06-10T23:11:24.451705Z"
    },
    "id": "-JHU9sJO-aI9",
    "papermill": {
     "duration": 0.022691,
     "end_time": "2023-06-10T23:11:24.455457",
     "exception": false,
     "start_time": "2023-06-10T23:11:24.432766",
     "status": "completed"
    },
    "tags": []
   },
   "outputs": [],
   "source": [
    "# accuracy score \n",
    "\n",
    "def accuracy_fn(y_true, y_pred):\n",
    "  n_correct = 0; n_wrong = 0\n",
    "  for i in range(y_pred.shape[0]):\n",
    "    abs_delta = np.abs(y_pred[i].item() - y_true[i].item())\n",
    "    max_allow = np.abs(0.1 * y_true[i].item())\n",
    "    if abs_delta < max_allow:\n",
    "      n_correct +=1\n",
    "    else:\n",
    "      n_wrong += 1\n",
    "  acc = (n_correct * 1.0) / (n_correct + n_wrong)\n",
    "  return acc*100"
   ]
  },
  {
   "cell_type": "code",
   "execution_count": 27,
   "id": "342b332d",
   "metadata": {
    "execution": {
     "iopub.execute_input": "2023-06-10T23:11:24.479171Z",
     "iopub.status.busy": "2023-06-10T23:11:24.478746Z",
     "iopub.status.idle": "2023-06-10T23:11:24.484945Z",
     "shell.execute_reply": "2023-06-10T23:11:24.483762Z"
    },
    "id": "9ty7YFTX_aV1",
    "outputId": "197c3c16-ac80-49a6-d26c-f8ab88bf8e97",
    "papermill": {
     "duration": 0.021049,
     "end_time": "2023-06-10T23:11:24.487520",
     "exception": false,
     "start_time": "2023-06-10T23:11:24.466471",
     "status": "completed"
    },
    "tags": []
   },
   "outputs": [
    {
     "name": "stdout",
     "output_type": "stream",
     "text": [
      "Accuracy Score:  100.0\n"
     ]
    }
   ],
   "source": [
    "print('Accuracy Score: ', accuracy_fn(y_test, y_test_pred))"
   ]
  }
 ],
 "metadata": {
  "kernelspec": {
   "display_name": "Python 3 (ipykernel)",
   "language": "python",
   "name": "python3"
  },
  "language_info": {
   "codemirror_mode": {
    "name": "ipython",
    "version": 3
   },
   "file_extension": ".py",
   "mimetype": "text/x-python",
   "name": "python",
   "nbconvert_exporter": "python",
   "pygments_lexer": "ipython3",
   "version": "3.9.7"
  },
  "papermill": {
   "default_parameters": {},
   "duration": 18.44344,
   "end_time": "2023-06-10T23:11:25.623591",
   "environment_variables": {},
   "exception": null,
   "input_path": "__notebook__.ipynb",
   "output_path": "__notebook__.ipynb",
   "parameters": {},
   "start_time": "2023-06-10T23:11:07.180151",
   "version": "2.4.0"
  }
 },
 "nbformat": 4,
 "nbformat_minor": 5
}
